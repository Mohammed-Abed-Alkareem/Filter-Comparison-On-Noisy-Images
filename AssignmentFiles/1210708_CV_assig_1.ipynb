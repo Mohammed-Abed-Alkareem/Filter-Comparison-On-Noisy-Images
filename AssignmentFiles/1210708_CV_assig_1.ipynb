{
 "cells": [
  {
   "cell_type": "markdown",
   "metadata": {
    "id": "JxMycJyEzYoA"
   },
   "source": [
    "\n",
    "<h1>ENCS5343 Computer Vision</h1>\n",
    "\n",
    "\n",
    "\n",
    "\n",
    "<h2>1. Introduction</h2>\n",
    "        <p>This assignment investigates the performance of various noise reduction filters in image processing. By applying different noise types to images and then removing it through filtering, we aim to compare each filter's effectiveness in terms of Mean Squared Error (MSE), Peak Signal-to-Noise Ratio (PSNR), edge preservation, and computational efficiency. This analysis will provide insights into the most suitable filters for real-world applications, considering their trade-offs between noise removal, edge retention, and processing speed.</p>\n",
    "\n",
    "<p>The objective is to compare each filter's effectiveness and efficiency, evaluating Mean Squared Error (MSE), Peak Signal-to-Noise Ratio (PSNR), edge preservation, and computational time across different kernel sizes. </p>\n",
    " "
   ]
  },
  {
   "cell_type": "markdown",
   "metadata": {},
   "source": [
    "## Table of Contents\n",
    "\n",
    "1. [Step 1: Generate or Load Noisy Images](#step-1-generate-or-load-noisy-images)\n",
    "   - 1.1 [Upload Clean Images](#upload-clean-images)\n",
    "   - 1.2 [Add Noise](#add-noise)\n",
    "2. [Step 2: Apply Filters](#step-2-apply-filters)\n",
    "   - 2.1 [Simple Filters](#simple-filters)\n",
    "     - 4.1.1 [Box Filter](#box-filter)\n",
    "       - 2.1.1.1 [Gaussian Noise](#gaussian-noise)\n",
    "       - 2.1.1.2 [Salt and Pepper Noise](#salt-and-pepper-noise)\n",
    "     - 2.1.2 [Gaussian Filter](#gaussian-filter)\n",
    "       - 2.1.2.1 [Gaussian Noise](#gaussian-noise-1)\n",
    "       - 2.1.2.2 [Salt and Pepper Noise](#salt-and-pepper-noise-1)\n",
    "     - 2.1.3 [Median Filter](#median-filter)\n",
    "       - 2.1.3.1 [Gaussian Noise](#gaussian-noise-2)\n",
    "       - 2.1.3.2 [Salt and Pepper Noise](#salt-and-pepper-noise-2)\n",
    "   - 2.2 [Advanced Filters](#advanced-filters)\n",
    "     - 2.2.1 [Adaptive Median Filter](#adaptive-median-filter)\n",
    "       - 2.2.1.1 [Gaussian Noise](#gaussian-noise-3)\n",
    "       - 2.2.1.2 [Salt and Pepper Noise](#salt-and-pepper-noise-3)\n",
    "     - 2.2.2 [Bilateral Filter](#bilateral-filter)\n",
    "       - 2.2.2.1 [Gaussian Noise](#gaussian-noise-4)\n",
    "       - 2.2.2.2 [Salt and Pepper Noise](#salt-and-pepper-noise-4)\n",
    "     - 2.2.3 [Adaptive Mean Filter](#adaptive-mean-filter)\n",
    "       - 2.2.3.1 [Gaussian Noise](#gaussian-noise-5)\n",
    "       - 2.2.3.2 [Salt and Pepper Noise](#salt-and-pepper-noise-5)\n",
    "3. [Step 3: Measure Performance](#step-3-measure-performance)\n",
    "   - 3.1 [Mean Squared Error (MSE)](#mse)\n",
    "   - 3.2 [Peak Signal-to-Noise Ratio (PSNR)](#psnr)\n",
    "   - 3.3 [Edge Preservation](#edge-preservation)\n",
    "3. [Conclusion](#conclusion)\n"
   ]
  },
  {
   "cell_type": "markdown",
   "metadata": {
    "id": "iSOwTGe9zYoB"
   },
   "source": [
    "https://docs.opencv.org/4.x/d4/d13/tutorial_py_filtering.html"
   ]
  },
  {
   "cell_type": "code",
   "execution_count": null,
   "metadata": {
    "id": "VskVtZ7UzYoC"
   },
   "outputs": [],
   "source": [
    "import os\n",
    "import cv2\n",
    "import numpy as np\n",
    "import matplotlib.pyplot as plt\n",
    "import time\n",
    "import pandas as pd\n",
    "from utils import *\n",
    "from Calculation import *\n",
    "from AdaptiveFilters import *"
   ]
  },
  {
   "cell_type": "markdown",
   "metadata": {
    "id": "LfP7nXP1zYoC"
   },
   "source": [
    "# Step 1: Generate or load noisy images"
   ]
  },
  {
   "cell_type": "markdown",
   "metadata": {
    "id": "L9httAVgzYoD"
   },
   "source": [
    "### upload clean images"
   ]
  },
  {
   "cell_type": "markdown",
   "metadata": {},
   "source": [
    "<p>Four images with varying levels of edge complexity and different internal details were selected to evaluate the performance of different noise reduction filters. These images will help in understanding how each filter handles noise while preserving edges and details.</p>\n",
    "\n"
   ]
  },
  {
   "cell_type": "code",
   "execution_count": null,
   "metadata": {
    "id": "Vr3CKASkzYoD"
   },
   "outputs": [],
   "source": [
    "images = load_images_from_folder('../images')"
   ]
  },
  {
   "cell_type": "code",
   "execution_count": null,
   "metadata": {
    "colab": {
     "base_uri": "https://localhost:8080/",
     "height": 807
    },
    "id": "mE6JEXFJzYoD",
    "outputId": "8efbafdf-3448-4b6e-d9f8-4e8b09b6f045"
   },
   "outputs": [],
   "source": [
    "#show images as grid 2 in each row\n",
    "fig, axs = plt.subplots(len(images)//2, 2, figsize=(10, 10))\n",
    "for i, img in enumerate(images):\n",
    "    axs[i//2, i%2].imshow(img, cmap='gray')\n",
    "    axs[i//2, i%2].axis('off')\n",
    "plt.show()\n",
    "\n"
   ]
  },
  {
   "cell_type": "code",
   "execution_count": null,
   "metadata": {},
   "outputs": [],
   "source": [
    "for img in images:\n",
    "    print(f\"Image shape: {img.shape}\")"
   ]
  },
  {
   "cell_type": "markdown",
   "metadata": {
    "id": "MR9XVDYQzYoE"
   },
   "source": [
    "### Add Noise"
   ]
  },
  {
   "cell_type": "markdown",
   "metadata": {},
   "source": [
    "<ul>\n",
    "            <li><strong>Gaussian Noise</strong>: Random noise with a normal distribution, simulating sensor or lighting irregularities.</li>\n",
    "            <li><strong>Salt-and-Pepper Noise</strong>: Sporadic pixel intensities of maximum or minimum values, mimicking image transmission errors.</li>\n",
    "        </ul>"
   ]
  },
  {
   "cell_type": "code",
   "execution_count": null,
   "metadata": {
    "id": "5gDtv8rhzYoF"
   },
   "outputs": [],
   "source": [
    "# {0:{gaussian: [], salt_pepper: []}, 1:{gaussian: [], salt_pepper: []}, ...}\n",
    "images_with_noise = {i: {'gaussian': [], 'salt_pepper': []} for i in range(len(images))}\n",
    "\n",
    "gaus_values = [20, 50, 100]\n",
    "salt_pepper_values = [0.05, 0.2, 0.5]\n",
    "\n",
    "for i, img in enumerate(images):\n",
    "\n",
    "    for value in gaus_values:\n",
    "        images_with_noise[i]['gaussian'].append(add_gaussian_noise(img, sigma=value))\n",
    "\n",
    "    for value in salt_pepper_values:\n",
    "        images_with_noise[i]['salt_pepper'].append(add_salt_pepper_noise(img, amount=value))"
   ]
  },
  {
   "cell_type": "code",
   "execution_count": null,
   "metadata": {
    "colab": {
     "base_uri": "https://localhost:8080/",
     "height": 0
    },
    "id": "iaekGUsTzYoF",
    "outputId": "dfb35c12-018a-41fa-822e-3d5c12552c9e"
   },
   "outputs": [],
   "source": [
    "\n",
    "for i in range(len(images)):\n",
    "    print(f\"Showing Gaussian noise for image {i+1}:\")\n",
    "    fig, axs = plt.subplots(1, len(gaus_values)+1, figsize=(10, 10))\n",
    "    axs[0].imshow(images[i], cmap='gray')\n",
    "    axs[0].axis('off')\n",
    "    axs[0].set_title('Original')\n",
    "\n",
    "    for j, img in enumerate(images_with_noise[i]['gaussian']):\n",
    "        axs[j+1].imshow(img, cmap='gray')\n",
    "        axs[j+1].axis('off')\n",
    "        axs[j+1].set_title(f'Gaussian noise: {gaus_values[j]}')\n",
    "\n",
    "    plt.show()\n"
   ]
  },
  {
   "cell_type": "code",
   "execution_count": null,
   "metadata": {
    "colab": {
     "base_uri": "https://localhost:8080/",
     "height": 0
    },
    "id": "s3Vk14npzYoF",
    "outputId": "7136af19-d90e-46c0-b7ea-74769680db3e"
   },
   "outputs": [],
   "source": [
    "\n",
    "for i in range(len(images)):\n",
    "    print(f\"Showing salt_pepper noise for image {i+1}:\")\n",
    "    fig, axs = plt.subplots(1, len(salt_pepper_values)+1, figsize=(10, 10))\n",
    "    axs[0].imshow(images[i], cmap='gray')\n",
    "    axs[0].axis('off')\n",
    "    axs[0].set_title('Original')\n",
    "\n",
    "    for j, img in enumerate(images_with_noise[i]['salt_pepper']):\n",
    "        axs[j+1].imshow(img, cmap='gray')\n",
    "        axs[j+1].axis('off')\n",
    "        axs[j+1].set_title(f'salt_pepper noise: {salt_pepper_values[j]}')\n",
    "\n",
    "    plt.show()\n"
   ]
  },
  {
   "cell_type": "markdown",
   "metadata": {},
   "source": [
    "# Step 2: Apply filters"
   ]
  },
  {
   "cell_type": "markdown",
   "metadata": {},
   "source": [
    "\n",
    "\n",
    "<ol>\n",
    "            <li><strong>Simple Filters</strong>: Evaluates basic filters such as Box, Gaussian, and Median filters for noise reduction.</li>\n",
    "            <li><strong>Advanced Filters</strong>: Explores combinations and custom implementations to enhance noise reduction across various noise types.</li>\n",
    "    </ol>"
   ]
  },
  {
   "cell_type": "code",
   "execution_count": null,
   "metadata": {
    "id": "yKdE7EFbzYoG"
   },
   "outputs": [],
   "source": [
    "kernel_sizes_to_show = [3,15, 35]\n",
    "\n",
    "kernel_sizes = range(3, 36, 4)\n",
    "for k in kernel_sizes:\n",
    "    print(f\"Kernel size: {k}\")\n",
    "   "
   ]
  },
  {
   "cell_type": "markdown",
   "metadata": {
    "id": "Jjiaa0tdzYoG"
   },
   "source": [
    "## Simple Filters"
   ]
  },
  {
   "cell_type": "markdown",
   "metadata": {},
   "source": [
    "<ol>\n",
    "            <li><strong>Box Filter</strong>: An averaging filter that smoothens images by replacing each pixel’s value with the mean of its neighbors.</li>\n",
    "            <li><strong>Gaussian Filter</strong>: A filter that applies a Gaussian function to assign more weight to the central pixels in the neighborhood, which effectively reduces Gaussian noise while preserving some detail.</li>\n",
    "            <li><strong>Median Filter</strong>: Designed specifically to handle salt-and-pepper noise, it replaces each pixel’s value with the median of its neighborhood, retaining edges better than the box filter.</li>\n",
    "            \n",
    "</ol>"
   ]
  },
  {
   "cell_type": "markdown",
   "metadata": {
    "id": "iLHQjcf0zYoG"
   },
   "source": [
    "### Box Filter"
   ]
  },
  {
   "cell_type": "markdown",
   "metadata": {
    "id": "tDtTizt_zYoG"
   },
   "source": [
    "#### Gaussian Noise"
   ]
  },
  {
   "cell_type": "code",
   "execution_count": null,
   "metadata": {
    "id": "RW-lCoCTzYoG"
   },
   "outputs": [],
   "source": [
    "\n",
    "#images_with_box_filter_gaussian = {0:{noise1:[k3, k5, k7], noise2:[k3, k5, k7]}, 1:{noise1:[k3, k5, k7], noise2:[k3, k5, k7]}, ...}\n",
    "\n",
    "images_with_box_filter_gaussian = {i: {n: [] for n in range (len(gaus_values))} for i in range(len(images))}\n",
    "\n",
    "time_images_with_box_filter_gaussian = {i: {n: [] for n in range (len(gaus_values))} for i in range(len(images))}\n",
    "\n",
    "for i in range(len(images)):\n",
    "    for j in range(len(gaus_values)):\n",
    "        for k in kernel_sizes:\n",
    "            start_time = time.time()\n",
    "            images_with_box_filter_gaussian[i][j].append(cv2.blur(images_with_noise[i]['gaussian'][j], (k, k)))\n",
    "            time_images_with_box_filter_gaussian[i][j].append((time.time() - start_time)*1000)\n",
    "\n",
    "\n",
    "plot_with_noise_filtered(images=images,\n",
    "                          images_with_noise=images_with_noise,\n",
    "                            images_with_filter=images_with_box_filter_gaussian,\n",
    "                              noise_type='gaussian',\n",
    "                                filter_type='box',\n",
    "                                  noise_values=gaus_values,\n",
    "                                    kernel_sizes=kernel_sizes,\n",
    "                                      kernel_sizes_to_show=kernel_sizes_to_show)\n"
   ]
  },
  {
   "cell_type": "markdown",
   "metadata": {
    "id": "be2q1R3gzYoH"
   },
   "source": [
    "#### Salt_Pepper Noise"
   ]
  },
  {
   "cell_type": "code",
   "execution_count": null,
   "metadata": {
    "id": "x2brTrhazYoH"
   },
   "outputs": [],
   "source": [
    "\n",
    "#images_with_box_filter_salt_peper = {0:{noise1:[k3, k5, k7], noise2:[k3, k5, k7]}, 1:{noise1:[k3, k5, k7], noise2:[k3, k5, k7]}, ...}\n",
    "\n",
    "images_with_box_filter_salt_pepper = {i: {n: [] for n in range (len(salt_pepper_values))} for i in range(len(images))}\n",
    "time_images_with_box_filter_salt_pepper = {i: {n: [] for n in range (len(salt_pepper_values))} for i in range(len(images))}\n",
    "\n",
    "\n",
    "for i in range(len(images)):\n",
    "    for j in range(len(salt_pepper_values)):\n",
    "        for k in kernel_sizes:\n",
    "            start_time = time.time()\n",
    "            images_with_box_filter_salt_pepper[i][j].append(cv2.blur(images_with_noise[i]['salt_pepper'][j], (k, k)))\n",
    "            time_images_with_box_filter_salt_pepper[i][j].append((time.time() - start_time)*1000)\n",
    "\n",
    "\n",
    "plot_with_noise_filtered(images=images,\n",
    "                          images_with_noise=images_with_noise,\n",
    "                            images_with_filter=images_with_box_filter_salt_pepper,\n",
    "                              noise_type='salt_pepper',\n",
    "                                filter_type='box',\n",
    "                                  noise_values=salt_pepper_values,\n",
    "                                    kernel_sizes=kernel_sizes,\n",
    "                                      kernel_sizes_to_show=kernel_sizes_to_show)"
   ]
  },
  {
   "cell_type": "markdown",
   "metadata": {
    "id": "zSsviQsqzYoI"
   },
   "source": [
    "### Gaussian Filter"
   ]
  },
  {
   "cell_type": "markdown",
   "metadata": {
    "id": "IvOeb__FzYoI"
   },
   "source": [
    "#### Gaussian Noise"
   ]
  },
  {
   "cell_type": "code",
   "execution_count": null,
   "metadata": {
    "id": "p7htYNPvzYoI"
   },
   "outputs": [],
   "source": [
    "\n",
    "#images_with_gaussian_filter_gaussian = {0:{noise1:[k3, k5, k7], noise2:[k3, k5, k7]}, 1:{noise1:[k3, k5, k7], noise2:[k3, k5, k7]}, ...}\n",
    "\n",
    "images_with_gaussian_filter_gaussian = {i: {n: [] for n in range (len(gaus_values))} for i in range(len(images))}\n",
    "\n",
    "time_images_with_gaussian_filter_gaussian = {i: {n: [] for n in range (len(gaus_values))} for i in range(len(images))}\n",
    "\n",
    "for i in range(len(images)):\n",
    "    for j in range(len(gaus_values)):\n",
    "        for k in kernel_sizes:\n",
    "            start_time = time.time()\n",
    "            images_with_gaussian_filter_gaussian[i][j].append(cv2.GaussianBlur(images_with_noise[i]['gaussian'][j], (k, k),0))\n",
    "            time_images_with_gaussian_filter_gaussian[i][j].append((time.time() - start_time)*1000)\n",
    "\n",
    "\n",
    "plot_with_noise_filtered(images=images,\n",
    "                            images_with_noise=images_with_noise,\n",
    "                                images_with_filter=images_with_gaussian_filter_gaussian,\n",
    "                                noise_type='gaussian',\n",
    "                                    filter_type='gaussian',\n",
    "                                    noise_values=gaus_values,\n",
    "                                        kernel_sizes=kernel_sizes,\n",
    "                                        kernel_sizes_to_show=kernel_sizes_to_show)"
   ]
  },
  {
   "cell_type": "markdown",
   "metadata": {
    "id": "o3KoFjJtzYoI"
   },
   "source": [
    "#### Salt_Pepper Noise"
   ]
  },
  {
   "cell_type": "code",
   "execution_count": null,
   "metadata": {
    "id": "Ubw8MrhDzYoI"
   },
   "outputs": [],
   "source": [
    "\n",
    "#images_with_gaussian_filter_salt_pepper = {0:{noise1:[k3, k5, k7], noise2:[k3, k5, k7]}, 1:{noise1:[k3, k5, k7], noise2:[k3, k5, k7]}, ...}\n",
    "\n",
    "images_with_gaussian_filter_salt_pepper = {i: {n: [] for n in range (len(salt_pepper_values))} for i in range(len(images))}\n",
    "\n",
    "time_images_with_gaussian_filter_salt_pepper = {i: {n: [] for n in range (len(salt_pepper_values))} for i in range(len(images))}\n",
    "\n",
    "for i in range(len(images)):\n",
    "    for j in range(len(salt_pepper_values)):\n",
    "        for k in kernel_sizes:\n",
    "            start_time = time.time()\n",
    "            images_with_gaussian_filter_salt_pepper[i][j].append(cv2.GaussianBlur(images_with_noise[i]['salt_pepper'][j], (k, k),0))\n",
    "\n",
    "            time_images_with_gaussian_filter_salt_pepper[i][j].append((time.time() - start_time)*1000)\n",
    "\n",
    "\n",
    "plot_with_noise_filtered(images=images,\n",
    "                            images_with_noise=images_with_noise,\n",
    "                                images_with_filter=images_with_gaussian_filter_salt_pepper,\n",
    "                                noise_type='salt_pepper',\n",
    "                                    filter_type='gaussian',\n",
    "                                    noise_values=salt_pepper_values,\n",
    "                                        kernel_sizes=kernel_sizes,\n",
    "                                        kernel_sizes_to_show=kernel_sizes_to_show)"
   ]
  },
  {
   "cell_type": "markdown",
   "metadata": {
    "id": "ZSzK1DwZzYoJ"
   },
   "source": [
    "### Median Filter"
   ]
  },
  {
   "cell_type": "markdown",
   "metadata": {
    "id": "FHdvUUZ2zYoJ"
   },
   "source": [
    "#### Gaussian Noise"
   ]
  },
  {
   "cell_type": "code",
   "execution_count": null,
   "metadata": {
    "id": "xD4JKcgEzYoJ"
   },
   "outputs": [],
   "source": [
    "\n",
    "#images_with_median_filter_gaussian = {0:{noise1:[k3, k5, k7], noise2:[k3, k5, k7]}, 1:{noise1:[k3, k5, k7], noise2:[k3, k5, k7]}, ...}\n",
    "\n",
    "images_with_median_filter_gaussian = {i: {n: [] for n in range (len(gaus_values))} for i in range(len(images))}\n",
    "\n",
    "time_images_with_median_filter_gaussian = {i: {n: [] for n in range (len(gaus_values))} for i in range(len(images))}\n",
    "\n",
    "for i in range(len(images)):\n",
    "    for j in range(len(gaus_values)):\n",
    "        for k in kernel_sizes:\n",
    "            # here kernel as k\n",
    "            start_time = time.time()\n",
    "            images_with_median_filter_gaussian[i][j].append(cv2.medianBlur(images_with_noise[i]['gaussian'][j],  k))\n",
    "            time_images_with_median_filter_gaussian[i][j].append((time.time() - start_time)*1000)\n",
    "\n",
    "\n",
    "plot_with_noise_filtered(images=images,\n",
    "                            images_with_noise=images_with_noise,\n",
    "                                images_with_filter=images_with_median_filter_gaussian,\n",
    "                                noise_type='gaussian',\n",
    "                                    filter_type='median',\n",
    "                                    noise_values=gaus_values,\n",
    "                                        kernel_sizes=kernel_sizes,\n",
    "                                        kernel_sizes_to_show=kernel_sizes_to_show)\n"
   ]
  },
  {
   "cell_type": "markdown",
   "metadata": {
    "id": "SNFQKHDhzYoK"
   },
   "source": [
    "#### Salt_Pepper Noise"
   ]
  },
  {
   "cell_type": "code",
   "execution_count": null,
   "metadata": {
    "id": "_e9f8fw9zYoL"
   },
   "outputs": [],
   "source": [
    "\n",
    "#images_with_median_filter_salt_pepper = {0:{noise1:[k3, k5, k7], noise2:[k3, k5, k7]}, 1:{noise1:[k3, k5, k7], noise2:[k3, k5, k7]}, ...}\n",
    "\n",
    "images_with_median_filter_salt_pepper = {i: {n: [] for n in range (len(salt_pepper_values))} for i in range(len(images))}\n",
    "\n",
    "time_images_with_median_filter_salt_pepper = {i: {n: [] for n in range (len(salt_pepper_values))} for i in range(len(images))}\n",
    "\n",
    "for i in range(len(images)):\n",
    "    for j in range(len(salt_pepper_values)):\n",
    "        for k in kernel_sizes:\n",
    "            # here kernel as k\n",
    "            start_time = time.time()\n",
    "            images_with_median_filter_salt_pepper[i][j].append(cv2.medianBlur(images_with_noise[i]['salt_pepper'][j],  k))\n",
    "            time_images_with_median_filter_salt_pepper[i][j].append((time.time() - start_time)*1000)\n",
    "\n",
    "\n",
    "plot_with_noise_filtered(images=images,\n",
    "                            images_with_noise=images_with_noise,\n",
    "                                images_with_filter=images_with_median_filter_salt_pepper,\n",
    "                                noise_type='salt_pepper',\n",
    "                                    filter_type='median',\n",
    "                                    noise_values=salt_pepper_values,\n",
    "                                        kernel_sizes=kernel_sizes,\n",
    "                                        kernel_sizes_to_show=kernel_sizes_to_show)"
   ]
  },
  {
   "cell_type": "markdown",
   "metadata": {
    "id": "V87CFzM7zYoL"
   },
   "source": [
    "## Advanced filters"
   ]
  },
  {
   "cell_type": "markdown",
   "metadata": {
    "id": "2olNqCNfzYoL"
   },
   "source": [
    "### Adaptive Median Filter"
   ]
  },
  {
   "cell_type": "markdown",
   "metadata": {
    "id": "sw97p7OazYoR"
   },
   "source": [
    "https://www.irjet.net/archives/V6/i10/IRJET-V6I10148.pdf"
   ]
  },
  {
   "cell_type": "markdown",
   "metadata": {},
   "source": [
    "#### Gaussian Noise"
   ]
  },
  {
   "cell_type": "code",
   "execution_count": null,
   "metadata": {
    "id": "MXQBfsgWzYoR"
   },
   "outputs": [],
   "source": [
    "\n",
    "#images_with_box_filter_gaussian = {0:{noise1:[k3, k5, k7], noise2:[k3, k5, k7]}, 1:{noise1:[k3, k5, k7], noise2:[k3, k5, k7]}, ...}\n",
    "\n",
    "images_with_AdaptiveMedian_filter_gaussian = {i: {n: [] for n in range (len(gaus_values))} for i in range(len(images))}\n",
    "time_images_with_AdaptiveMedian_filter_gaussian = {i: {n: [] for n in range (len(gaus_values))} for i in range(len(images))}\n",
    "# time_images_with_box_filter_gaussian = {i: {n: [] for n in range (len(gaus_values))} for i in range(len(images))}\n",
    "\n",
    "for i in range(len(images)):\n",
    "    for j in range(len(gaus_values)):\n",
    "        for k in kernel_sizes:\n",
    "            start_time = time.time()\n",
    "            # images_with_box_filter_gaussian[i][j].append(cv2.blur(images_with_noise[i]['gaussian'][j], (k, k)))\n",
    "            images_with_AdaptiveMedian_filter_gaussian[i][j].append(adaptiveMedianFilter(images_with_noise[i]['gaussian'][j], max_kernel_size=k))\n",
    "            time_images_with_AdaptiveMedian_filter_gaussian[i][j].append((time.time() - start_time)*1000)\n",
    "            # images_with_AdaptiveMedian_filter_gaussian[i][j].append((time.time() - start_time)*1000)\n",
    "\n",
    "\n",
    "plot_with_noise_filtered(images=images,\n",
    "                            images_with_noise=images_with_noise,\n",
    "                                images_with_filter=images_with_AdaptiveMedian_filter_gaussian,\n",
    "                                noise_type='gaussian',\n",
    "                                    filter_type='AdaptiveMedian',\n",
    "                                    noise_values=gaus_values,\n",
    "                                        kernel_sizes=kernel_sizes,\n",
    "                                        kernel_sizes_to_show=kernel_sizes_to_show)"
   ]
  },
  {
   "cell_type": "markdown",
   "metadata": {},
   "source": [
    "#### Salt_Pepper Noise"
   ]
  },
  {
   "cell_type": "code",
   "execution_count": null,
   "metadata": {
    "id": "0I_ut9weDMiE"
   },
   "outputs": [],
   "source": [
    "\n",
    "#images_with_box_filter_gaussian = {0:{noise1:[k3, k5, k7], noise2:[k3, k5, k7]}, 1:{noise1:[k3, k5, k7], noise2:[k3, k5, k7]}, ...}\n",
    "\n",
    "images_with_AdaptiveMedian_filter_salt_pepper = {i: {n: [] for n in range (len(salt_pepper_values))} for i in range(len(images))}\n",
    "time_images_with_AdaptiveMedian_filter_salt_pepper = {i: {n: [] for n in range (len(salt_pepper_values))} for i in range(len(images))}\n",
    "# time_images_with_box_filter_gaussian = {i: {n: [] for n in range (len(gaus_values))} for i in range(len(images))}\n",
    "\n",
    "for i in range(len(images)):\n",
    "    for j in range(len(salt_pepper_values)):\n",
    "        for k in kernel_sizes:\n",
    "            start_time = time.time()\n",
    "            # images_with_box_filter_gaussian[i][j].append(cv2.blur(images_with_noise[i]['gaussian'][j], (k, k)))\n",
    "            images_with_AdaptiveMedian_filter_salt_pepper[i][j].append(adaptiveMedianFilter(images_with_noise[i]['salt_pepper'][j], max_kernel_size=k))\n",
    "            time_images_with_AdaptiveMedian_filter_salt_pepper[i][j].append((time.time() - start_time)*1000)\n",
    "            # images_with_AdaptiveMedian_filter_gaussian[i][j].append((time.time() - start_time)*1000)\n",
    "\n",
    "\n",
    "plot_with_noise_filtered(images=images,\n",
    "                            images_with_noise=images_with_noise,\n",
    "                                images_with_filter=images_with_AdaptiveMedian_filter_salt_pepper,\n",
    "                                noise_type='salt_pepper',\n",
    "                                    filter_type='AdaptiveMedian',\n",
    "                                    noise_values=salt_pepper_values,\n",
    "                                        kernel_sizes=kernel_sizes,\n",
    "                                        kernel_sizes_to_show=kernel_sizes_to_show)"
   ]
  },
  {
   "cell_type": "markdown",
   "metadata": {
    "id": "vNR7Gllhb0z9"
   },
   "source": [
    "### Bilateral Filter"
   ]
  },
  {
   "cell_type": "markdown",
   "metadata": {},
   "source": [
    "#### Gaussian Noise"
   ]
  },
  {
   "cell_type": "code",
   "execution_count": null,
   "metadata": {
    "id": "pJEO0C3Sb4Fk"
   },
   "outputs": [],
   "source": [
    "\n",
    "#images_with_median_filter_gaussian = {0:{noise1:[k3, k5, k7], noise2:[k3, k5, k7]}, 1:{noise1:[k3, k5, k7], noise2:[k3, k5, k7]}, ...}\n",
    "\n",
    "images_with_Bilateral_filter_gaussian = {i: {n: [] for n in range (len(gaus_values))} for i in range(len(images))}\n",
    "\n",
    "time_images_with_Bilateral_filter_gaussian = {i: {n: [] for n in range (len(gaus_values))} for i in range(len(images))}\n",
    "\n",
    "for i in range(len(images)):\n",
    "    for j in range(len(gaus_values)):\n",
    "        for k in kernel_sizes:\n",
    "            # here kernel as k\n",
    "            start_time = time.time()\n",
    "            images_with_Bilateral_filter_gaussian[i][j].append(cv2.bilateralFilter(images_with_noise[i]['gaussian'][j],  k,75 , 75 ))\n",
    "            # bilateralFilter(src, d (can be as kernel size?), sigmaColor, sigmaSpace)\n",
    "\n",
    "            time_images_with_Bilateral_filter_gaussian[i][j].append((time.time() - start_time)*1000)\n",
    "\n",
    "\n",
    "plot_with_noise_filtered(images=images,\n",
    "                            images_with_noise=images_with_noise,\n",
    "                                images_with_filter=images_with_Bilateral_filter_gaussian,\n",
    "                                noise_type='gaussian',\n",
    "                                    filter_type='Bilateral',\n",
    "                                    noise_values=gaus_values,\n",
    "                                        kernel_sizes=kernel_sizes,\n",
    "                                        kernel_sizes_to_show=kernel_sizes_to_show)"
   ]
  },
  {
   "cell_type": "markdown",
   "metadata": {},
   "source": [
    "#### Salt_Pepper Noise"
   ]
  },
  {
   "cell_type": "code",
   "execution_count": null,
   "metadata": {},
   "outputs": [],
   "source": [
    "\n",
    "#images_with_median_filter_gaussian = {0:{noise1:[k3, k5, k7], noise2:[k3, k5, k7]}, 1:{noise1:[k3, k5, k7], noise2:[k3, k5, k7]}, ...}\n",
    "\n",
    "images_with_Bilateral_filter_salt_pepper = {i: {n: [] for n in range (len(salt_pepper_values))} for i in range(len(images))}\n",
    "time_images_with_Bilateral_filter_salt_pepper = {i: {n: [] for n in range (len(salt_pepper_values))} for i in range(len(images))}\n",
    "\n",
    "\n",
    "for i in range(len(images)):\n",
    "    for j in range(len(salt_pepper_values)):\n",
    "        for k in kernel_sizes:\n",
    "            # here kernel as k\n",
    "            start_time = time.time()\n",
    "            images_with_Bilateral_filter_salt_pepper[i][j].append(cv2.bilateralFilter(images_with_noise[i]['salt_pepper'][j],  k,75 , 75 ))\n",
    "            # bilateralFilter(src, d (can be as kernel size?), sigmaColor, sigmaSpace)\n",
    "            time_images_with_Bilateral_filter_salt_pepper[i][j].append((time.time() - start_time)*1000)\n",
    "\n",
    "\n",
    "plot_with_noise_filtered(images=images,\n",
    "                            images_with_noise=images_with_noise,\n",
    "                                images_with_filter=images_with_Bilateral_filter_salt_pepper,\n",
    "                                noise_type='salt_pepper',\n",
    "                                    filter_type='Bilateral',\n",
    "                                    noise_values=salt_pepper_values,\n",
    "                                        kernel_sizes=kernel_sizes,\n",
    "                                        kernel_sizes_to_show=kernel_sizes_to_show)"
   ]
  },
  {
   "cell_type": "markdown",
   "metadata": {},
   "source": [
    "### Adaptive Mean Filter"
   ]
  },
  {
   "cell_type": "markdown",
   "metadata": {},
   "source": [
    "#### Gaussian Noise"
   ]
  },
  {
   "cell_type": "code",
   "execution_count": null,
   "metadata": {},
   "outputs": [],
   "source": [
    "\n",
    "#images_with_box_filter_gaussian = {0:{noise1:[k3, k5, k7], noise2:[k3, k5, k7]}, 1:{noise1:[k3, k5, k7], noise2:[k3, k5, k7]}, ...}\n",
    "\n",
    "images_with_AdaptiveMean_filter_gaussian = {i: {n: [] for n in range (len(gaus_values))} for i in range(len(images))}\n",
    "time_images_with_AdaptiveMean_filter_gaussian = {i: {n: [] for n in range (len(gaus_values))} for i in range(len(images))}\n",
    "# time_images_with_box_filter_gaussian = {i: {n: [] for n in range (len(gaus_values))} for i in range(len(images))}\n",
    "\n",
    "for i in range(len(images)):\n",
    "    for j in range(len(gaus_values)):\n",
    "        for k in kernel_sizes:\n",
    "            start_time = time.time()\n",
    "            # images_with_box_filter_gaussian[i][j].append(cv2.blur(images_with_noise[i]['gaussian'][j], (k, k)))\n",
    "            images_with_AdaptiveMean_filter_gaussian[i][j].append(adaptiveMeanFilter(images_with_noise[i]['gaussian'][j], max_kernel_size=k))\n",
    "            time_images_with_AdaptiveMean_filter_gaussian[i][j].append((time.time() - start_time)*1000)\n",
    "            # images_with_AdaptiveMedian_filter_gaussian[i][j].append((time.time() - start_time)*1000)\n",
    "\n",
    "plot_with_noise_filtered(images=images,\n",
    "                            images_with_noise=images_with_noise,\n",
    "                                images_with_filter=images_with_AdaptiveMean_filter_gaussian,\n",
    "                                noise_type='gaussian',\n",
    "                                    filter_type='AdaptiveMean',\n",
    "                                    noise_values=gaus_values,\n",
    "                                        kernel_sizes=kernel_sizes,\n",
    "                                        kernel_sizes_to_show=kernel_sizes_to_show)"
   ]
  },
  {
   "cell_type": "markdown",
   "metadata": {},
   "source": [
    "#### Salt_Pepper Noise"
   ]
  },
  {
   "cell_type": "code",
   "execution_count": null,
   "metadata": {},
   "outputs": [],
   "source": [
    "\n",
    "#images_with_box_filter_gaussian = {0:{noise1:[k3, k5, k7], noise2:[k3, k5, k7]}, 1:{noise1:[k3, k5, k7], noise2:[k3, k5, k7]}, ...}\n",
    "\n",
    "images_with_AdaptiveMean_filter_salt_pepper = {i: {n: [] for n in range (len(salt_pepper_values))} for i in range(len(images))}\n",
    "time_images_with_AdaptiveMean_filter_salt_pepper = {i: {n: [] for n in range (len(salt_pepper_values))} for i in range(len(images))}\n",
    "# time_images_with_box_filter_gaussian = {i: {n: [] for n in range (len(gaus_values))} for i in range(len(images))}\n",
    "\n",
    "for i in range(len(images)):\n",
    "    for j in range(len(salt_pepper_values)):\n",
    "        for k in kernel_sizes:\n",
    "            start_time = time.time()\n",
    "            # images_with_box_filter_gaussian[i][j].append(cv2.blur(images_with_noise[i]['gaussian'][j], (k, k)))\n",
    "            images_with_AdaptiveMean_filter_salt_pepper[i][j].append(adaptiveMedianFilter(images_with_noise[i]['salt_pepper'][j], max_kernel_size=k))\n",
    "            time_images_with_AdaptiveMean_filter_salt_pepper[i][j].append((time.time() - start_time)*1000)\n",
    "            # images_with_AdaptiveMedian_filter_gaussian[i][j].append((time.time() - start_time)*1000)\n",
    "\n",
    "plot_with_noise_filtered(images=images,\n",
    "                            images_with_noise=images_with_noise,\n",
    "                                images_with_filter=images_with_AdaptiveMean_filter_salt_pepper,\n",
    "                                noise_type='salt_pepper',\n",
    "                                    filter_type='AdaptiveMean',\n",
    "                                    noise_values=salt_pepper_values,\n",
    "                                        kernel_sizes=kernel_sizes,\n",
    "                                        kernel_sizes_to_show=kernel_sizes_to_show)"
   ]
  },
  {
   "cell_type": "markdown",
   "metadata": {},
   "source": [
    "# Step 3: Measure performance"
   ]
  },
  {
   "cell_type": "markdown",
   "metadata": {},
   "source": [
    "## Simple Filters"
   ]
  },
  {
   "cell_type": "markdown",
   "metadata": {},
   "source": [
    "### Box Filter"
   ]
  },
  {
   "cell_type": "markdown",
   "metadata": {},
   "source": [
    "#### MSE"
   ]
  },
  {
   "cell_type": "code",
   "execution_count": null,
   "metadata": {},
   "outputs": [],
   "source": [
    "\n",
    "\n",
    "MSE_images_with_box_filter_gaussian = calculate_MSE_for_filters(images, images_with_box_filter_gaussian, kernel_sizes)\n",
    "MSE_images_with_box_filter_salt_pepper = calculate_MSE_for_filters(images, images_with_box_filter_salt_pepper, kernel_sizes)\n",
    "\n",
    "MSE_images_with_gaussian_filter_gaussian= calculate_MSE_for_filters(images, images_with_gaussian_filter_gaussian, kernel_sizes)\n",
    "MSE_images_with_gaussian_filter_salt_pepper= calculate_MSE_for_filters(images, images_with_gaussian_filter_salt_pepper, kernel_sizes)\n",
    "\n",
    "\n",
    "MSE_images_with_median_filter_gaussian= calculate_MSE_for_filters(images, images_with_median_filter_gaussian, kernel_sizes)\n",
    "MSE_images_with_median_filter_salt_pepper= calculate_MSE_for_filters(images, images_with_median_filter_salt_pepper, kernel_sizes)\n",
    "\n",
    "MSE_images_with_AdaptiveMean_filter_gaussian= calculate_MSE_for_filters(images, images_with_AdaptiveMean_filter_gaussian, kernel_sizes)\n",
    "MSE_images_with_AdaptiveMean_filter_salt_pepper= calculate_MSE_for_filters(images, images_with_AdaptiveMean_filter_salt_pepper, kernel_sizes)\n",
    "\n",
    "MSE_images_with_Bilateral_filter_gaussian= calculate_MSE_for_filters(images, images_with_Bilateral_filter_gaussian, kernel_sizes)\n",
    "MSE_images_with_Bilateral_filter_salt_pepper= calculate_MSE_for_filters(images, images_with_Bilateral_filter_salt_pepper, kernel_sizes)\n",
    "\n",
    "\n",
    "MSE_images_with_AdaptiveMedian_filter_gaussian= calculate_MSE_for_filters(images, images_with_AdaptiveMedian_filter_gaussian, kernel_sizes)\n",
    "MSE_images_with_AdaptiveMedian_filter_salt_pepper= calculate_MSE_for_filters(images, images_with_AdaptiveMedian_filter_salt_pepper, kernel_sizes)\n",
    "\n",
    "\n",
    "PSNR_images_with_box_filter_gaussian= calculate_PSNR_for_filters(images, images_with_box_filter_gaussian, kernel_sizes)\n",
    "PSNR_images_with_box_filter_salt_pepper= calculate_PSNR_for_filters(images, images_with_box_filter_salt_pepper, kernel_sizes)\n",
    "\n",
    "\n",
    "PSNR_images_with_gaussian_filter_gaussian= calculate_PSNR_for_filters(images, images_with_gaussian_filter_gaussian, kernel_sizes)\n",
    "PSNR_images_with_gaussian_filter_salt_pepper= calculate_PSNR_for_filters(images, images_with_gaussian_filter_salt_pepper, kernel_sizes)\n",
    "\n",
    "\n",
    "PSNR_images_with_median_filter_gaussian= calculate_PSNR_for_filters(images, images_with_median_filter_gaussian, kernel_sizes)\n",
    "PSNR_images_with_median_filter_salt_pepper= calculate_PSNR_for_filters(images, images_with_median_filter_salt_pepper, kernel_sizes)\n",
    "\n",
    "\n",
    "PSNR_images_with_AdaptiveMean_filter_gaussian= calculate_PSNR_for_filters(images, images_with_AdaptiveMean_filter_gaussian, kernel_sizes)\n",
    "PSNR_images_with_AdaptiveMean_filter_salt_pepper= calculate_PSNR_for_filters(images, images_with_AdaptiveMean_filter_salt_pepper, kernel_sizes)\n",
    "\n",
    "\n",
    "PSNR_images_with_Bilateral_filter_gaussian= calculate_PSNR_for_filters(images, images_with_Bilateral_filter_gaussian, kernel_sizes)\n",
    "PSNR_images_with_Bilateral_filter_salt_pepper= calculate_PSNR_for_filters(images, images_with_Bilateral_filter_salt_pepper, kernel_sizes)\n",
    "\n",
    "PSNR_images_with_AdaptiveMedian_filter_gaussian= calculate_PSNR_for_filters(images, images_with_AdaptiveMedian_filter_gaussian, kernel_sizes)\n",
    "PSNR_images_with_AdaptiveMedian_filter_salt_pepper= calculate_PSNR_for_filters(images, images_with_AdaptiveMedian_filter_salt_pepper, kernel_sizes)\n"
   ]
  },
  {
   "cell_type": "code",
   "execution_count": null,
   "metadata": {},
   "outputs": [],
   "source": []
  },
  {
   "cell_type": "markdown",
   "metadata": {},
   "source": [
    "#### Edge preservation"
   ]
  },
  {
   "cell_type": "code",
   "execution_count": null,
   "metadata": {},
   "outputs": [],
   "source": [
    "original_edges = [cv2.Canny(img, 100, 200) for img in images]"
   ]
  },
  {
   "cell_type": "markdown",
   "metadata": {},
   "source": [
    "##### Gaussian Noise"
   ]
  },
  {
   "cell_type": "code",
   "execution_count": null,
   "metadata": {},
   "outputs": [],
   "source": [
    "EDGES_images_with_box_filter_gaussian= {i: {n: [] for n in range (len(gaus_values))} for i in range(len(images))}\n",
    "\n",
    "for i in range(len(images)):\n",
    "    for j in range(len(gaus_values)):\n",
    "        for k in range(len(kernel_sizes)) :\n",
    "            # print(i, j, k)\n",
    "            EDGES_images_with_box_filter_gaussian[i][j].append(cv2.Canny(images_with_box_filter_gaussian[i][j][k], 100, 200))"
   ]
  },
  {
   "cell_type": "code",
   "execution_count": null,
   "metadata": {},
   "outputs": [],
   "source": [
    "\n",
    "\n",
    "\n",
    "# for i in range(len(images)):\n",
    "#     print_with_border(f\"Showing Edges for image {i + 1} with Box filter for Gaussian noise:\")\n",
    "\n",
    "#     for j in range(len(gaus_values)):\n",
    "#         print(f\"\\n\\tShowing Edges for Gaussian noise {gaus_values[j]}:\")\n",
    "\n",
    "#         fig, axs = plt.subplots(1, len(kernel_sizes)+1, figsize=(10, 10))\n",
    "\n",
    "#         axs[0].imshow(original_edges[i], cmap='gray')\n",
    "#         axs[0].axis('off')\n",
    "#         axs[0].set_title('Original Edges')\n",
    "\n",
    "#         for k in range(len(kernel_sizes)):\n",
    "#             axs[k+1].imshow(EDGES_images_with_box_filter_gaussian[i][j][k], cmap='gray')\n",
    "#             axs[k+1].axis('off')\n",
    "#             axs[k+1].set_title(f'Edges: Box filter: {kernel_sizes[k]}')\n",
    "\n",
    "#         plt.tight_layout()\n",
    "\n",
    "#         plt.show()"
   ]
  },
  {
   "cell_type": "markdown",
   "metadata": {},
   "source": [
    "##### Salt_Pepper Noise"
   ]
  },
  {
   "cell_type": "code",
   "execution_count": null,
   "metadata": {},
   "outputs": [],
   "source": [
    "\n",
    "EDGES_images_with_box_filter_salt_pepper= {i: {n: [] for n in range (len(salt_pepper_values))} for i in range(len(images))}\n",
    "\n",
    "for i in range(len(images)):\n",
    "    for j in range(len(salt_pepper_values)):\n",
    "        for k in range(len(kernel_sizes)) :\n",
    "            # print(i, j, k)\n",
    "            EDGES_images_with_box_filter_salt_pepper[i][j].append(cv2.Canny(images_with_box_filter_salt_pepper[i][j][k], 100, 200))\n",
    "\n",
    "            \n",
    "                                           \n"
   ]
  },
  {
   "cell_type": "code",
   "execution_count": null,
   "metadata": {},
   "outputs": [],
   "source": [
    "\n",
    "for i in range(len(images)):\n",
    "    print_with_border(f\"Showing Edges for image {i + 1} with Box filter for Salt_Pepper noise:\")\n",
    "\n",
    "    for j in range(len(salt_pepper_values)):\n",
    "        print(f\"\\n\\tShowing Edges for Salt_Pepper noise {salt_pepper_values[j]}:\")\n",
    "\n",
    "        fig, axs = plt.subplots(1, len(kernel_sizes)+1, figsize=(10, 10))\n",
    "\n",
    "        axs[0].imshow(original_edges[i], cmap='gray')\n",
    "        axs[0].axis('off')\n",
    "        axs[0].set_title('Original Edges')\n",
    "\n",
    "        for k in range(len(kernel_sizes)):\n",
    "            axs[k+1].imshow(EDGES_images_with_box_filter_salt_pepper[i][j][k], cmap='gray')\n",
    "            axs[k+1].axis('off')\n",
    "            axs[k+1].set_title(f'Edges: Box filter: {kernel_sizes[k]}')\n",
    "\n",
    "        plt.tight_layout()\n",
    "\n",
    "        plt.show()"
   ]
  },
  {
   "cell_type": "markdown",
   "metadata": {},
   "source": [
    "### Gaussian Filter"
   ]
  },
  {
   "cell_type": "markdown",
   "metadata": {},
   "source": [
    "#### MSE"
   ]
  },
  {
   "cell_type": "code",
   "execution_count": null,
   "metadata": {},
   "outputs": [],
   "source": [
    "#images_with_gaussian_filter_gaussian = {0:{noise1:[k3, k5, k7], noise2:[k3, k5, k7]}, 1:{noise1:[k3, k5, k7], noise2:[k3, k5, k7]}, ...}\n",
    "\n",
    "\n",
    "\n"
   ]
  },
  {
   "cell_type": "code",
   "execution_count": null,
   "metadata": {},
   "outputs": [],
   "source": [
    "# plot each image on same plot plot for each gaus value\n",
    "for i in range(len(images)):\n",
    "    # print_with_border(f\"Showing MSE for image {i + 1}:\")\n",
    "    fig, axs = plt.subplots(1, 2, figsize=(10, 5))\n",
    "\n",
    "    for j in range(len(gaus_values)):\n",
    "        axs[0].plot(kernel_sizes, MSE_images_with_gaussian_filter_gaussian[i][j], label=f'Gaussian noise: {gaus_values[j]}')\n",
    "       \n",
    "    for k in range(len(salt_pepper_values)):\n",
    "        axs[1].plot(kernel_sizes, MSE_images_with_gaussian_filter_salt_pepper[i][k], label=f'Salt_Pepper noise: {salt_pepper_values[k]}')\n",
    "    \n",
    "    \n",
    "    axs[0].set_xlabel('Kernel size')\n",
    "    axs[0].set_ylabel('MSE')\n",
    "    axs[0].set_title(f'MSE for image {i + 1}\\n with Gaussian filter for Gaussian noise')\n",
    "    axs[0].legend()\n",
    "\n",
    "    axs[1].set_xlabel('Kernel size')\n",
    "    axs[1].set_ylabel('MSE')\n",
    "    axs[1].set_title(f'MSE for image {i + 1}\\n with Gaussian filter for Salt_Pepper noise')\n",
    "    axs[1].legend()\n",
    "\n"
   ]
  },
  {
   "cell_type": "markdown",
   "metadata": {},
   "source": [
    "#### PSNR"
   ]
  },
  {
   "cell_type": "code",
   "execution_count": null,
   "metadata": {},
   "outputs": [],
   "source": [
    "#images_with_gaussian_filter_gaussian = {0:{noise1:[k3, k5, k7], noise2:[k3, k5, k7]}, 1:{noise1:[k3, k5, k7], noise2:[k3, k5, k7]}, ...}\n",
    "\n"
   ]
  },
  {
   "cell_type": "code",
   "execution_count": null,
   "metadata": {},
   "outputs": [],
   "source": [
    "# plot each image on same plot plot for each gaus value\n",
    "for i in range(len(images)):\n",
    "    # print_with_border(f\"Showing MSE for image {i + 1}:\")\n",
    "    fig, axs = plt.subplots(1, 2, figsize=(10, 5))\n",
    "\n",
    "    for j in range(len(gaus_values)):\n",
    "        axs[0].plot(kernel_sizes, PSNR_images_with_gaussian_filter_gaussian[i][j], label=f'Gaussian noise: {gaus_values[j]}')\n",
    "        \n",
    "    for k in range(len(salt_pepper_values)):\n",
    "        axs[1].plot(kernel_sizes, PSNR_images_with_gaussian_filter_salt_pepper[i][k], label=f'Salt_Pepper noise: {salt_pepper_values[k]}')\n",
    "\n",
    "    axs[0].set_xlabel('Kernel size')\n",
    "    axs[0].set_ylabel('PSNR')\n",
    "    axs[0].set_title(f'PSNR for image {i + 1}\\n with Gaussian filter for Gaussian noise')\n",
    "    axs[0].legend()\n",
    "\n",
    "\n",
    "\n",
    "\n",
    "    axs[1].set_xlabel('Kernel size')\n",
    "    axs[1].set_ylabel('PSNR')\n",
    "    axs[1].set_title(f'PSNR for image {i + 1}\\n with Gaussian filter for Salt_Pepper noise')\n",
    "    axs[1].legend()\n",
    "\n"
   ]
  },
  {
   "cell_type": "markdown",
   "metadata": {},
   "source": [
    "#### Edge preservation"
   ]
  },
  {
   "cell_type": "code",
   "execution_count": null,
   "metadata": {},
   "outputs": [],
   "source": [
    "original_edges = [cv2.Canny(img, 100, 200) for img in images]"
   ]
  },
  {
   "cell_type": "markdown",
   "metadata": {},
   "source": [
    "##### Gaussian Noise"
   ]
  },
  {
   "cell_type": "code",
   "execution_count": null,
   "metadata": {},
   "outputs": [],
   "source": [
    "\n",
    "EDGES_images_with_gaussian_filter_gaussian= {i: {n: [] for n in range (len(gaus_values))} for i in range(len(images))}\n",
    "\n",
    "for i in range(len(images)):\n",
    "    for j in range(len(gaus_values)):\n",
    "        for k in range(len(kernel_sizes)) :\n",
    "            # print(i, j, k)\n",
    "            EDGES_images_with_gaussian_filter_gaussian[i][j].append(cv2.Canny(images_with_gaussian_filter_gaussian[i][j][k], 100, 200))\n",
    "                                    "
   ]
  },
  {
   "cell_type": "code",
   "execution_count": null,
   "metadata": {},
   "outputs": [],
   "source": [
    "\n",
    "for i in range(len(images)):\n",
    "    print_with_border(f\"Showing Edges for image {i + 1} with Gaussian filter for Gaussian noise:\")\n",
    "\n",
    "    for j in range(len(gaus_values)):\n",
    "        print(f\"\\n\\tShowing Edges for Gaussian noise {gaus_values[j]}:\")\n",
    "\n",
    "        fig, axs = plt.subplots(1, len(kernel_sizes)+1, figsize=(10, 10))\n",
    "\n",
    "        axs[0].imshow(original_edges[i], cmap='gray')\n",
    "        axs[0].axis('off')\n",
    "        axs[0].set_title('Original Edges')\n",
    "\n",
    "        for k in range(len(kernel_sizes)):\n",
    "            axs[k+1].imshow(EDGES_images_with_gaussian_filter_gaussian[i][j][k], cmap='gray')\n",
    "            axs[k+1].axis('off')\n",
    "            axs[k+1].set_title(f'Edges: Gaussian filter: {kernel_sizes[k]}')\n",
    "\n",
    "        plt.tight_layout()\n",
    "\n",
    "        plt.show()"
   ]
  },
  {
   "cell_type": "markdown",
   "metadata": {},
   "source": [
    "##### Salt_Pepper Noise"
   ]
  },
  {
   "cell_type": "code",
   "execution_count": null,
   "metadata": {},
   "outputs": [],
   "source": [
    "\n",
    "EDGES_images_with_gaussian_filter_salt_pepper= {i: {n: [] for n in range (len(salt_pepper_values))} for i in range(len(images))}\n",
    "\n",
    "for i in range(len(images)):\n",
    "    for j in range(len(salt_pepper_values)):\n",
    "        for k in range(len(kernel_sizes)) :\n",
    "            # print(i, j, k)\n",
    "            EDGES_images_with_gaussian_filter_salt_pepper[i][j].append(cv2.Canny(images_with_gaussian_filter_salt_pepper[i][j][k], 100, 200))\n",
    "                                                "
   ]
  },
  {
   "cell_type": "code",
   "execution_count": null,
   "metadata": {},
   "outputs": [],
   "source": [
    "\n",
    "for i in range(len(images)):\n",
    "    print_with_border(f\"Showing Edges for image {i + 1} with Gaussian filter for Salt_Pepper noise:\")\n",
    "\n",
    "    for j in range(len(salt_pepper_values)):\n",
    "        print(f\"\\n\\tShowing Edges for Salt_Pepper noise {salt_pepper_values[j]}:\")\n",
    "\n",
    "        fig, axs = plt.subplots(1, len(kernel_sizes)+1, figsize=(10, 10))\n",
    "\n",
    "        axs[0].imshow(original_edges[i], cmap='gray')\n",
    "        axs[0].axis('off')\n",
    "        axs[0].set_title('Original Edges')\n",
    "\n",
    "        for k in range(len(kernel_sizes)):\n",
    "            axs[k+1].imshow(EDGES_images_with_gaussian_filter_salt_pepper[i][j][k], cmap='gray')\n",
    "            axs[k+1].axis('off')\n",
    "            axs[k+1].set_title(f'Edges: Gaussian filter: {kernel_sizes[k]}')\n",
    "\n",
    "        plt.tight_layout()\n",
    "\n",
    "        plt.show()"
   ]
  },
  {
   "cell_type": "markdown",
   "metadata": {},
   "source": [
    "### Median Filter"
   ]
  },
  {
   "cell_type": "markdown",
   "metadata": {},
   "source": [
    "#### MSE"
   ]
  },
  {
   "cell_type": "code",
   "execution_count": null,
   "metadata": {},
   "outputs": [],
   "source": [
    "#images_with_gaussian_filter_gaussian = {0:{noise1:[k3, k5, k7], noise2:[k3, k5, k7]}, 1:{noise1:[k3, k5, k7], noise2:[k3, k5, k7]}, ...}\n",
    "\n",
    "\n"
   ]
  },
  {
   "cell_type": "code",
   "execution_count": null,
   "metadata": {},
   "outputs": [],
   "source": [
    "# plot each image on same plot plot for each gaus value\n",
    "for i in range(len(images)):\n",
    "    # print_with_border(f\"Showing MSE for image {i + 1}:\")\n",
    "    fig, axs = plt.subplots(1, 2, figsize=(10, 5))\n",
    "\n",
    "    for j in range(len(gaus_values)):\n",
    "        axs[0].plot(kernel_sizes, MSE_images_with_median_filter_gaussian[i][j], label=f'Gaussian noise: {gaus_values[j]}')\n",
    "        \n",
    "    for k in range(len(salt_pepper_values)):\n",
    "        axs[1].plot(kernel_sizes, MSE_images_with_median_filter_salt_pepper[i][k], label=f'Salt_Pepper noise: {salt_pepper_values[k]}')\n",
    "\n",
    "    axs[0].set_xlabel('Kernel size')\n",
    "    axs[0].set_ylabel('MSE')\n",
    "    axs[0].set_title(f'MSE for image {i + 1}\\n with Median filter for Gaussian noise')\n",
    "    axs[0].legend()\n",
    "\n",
    "\n",
    "\n",
    "\n",
    "    axs[1].set_xlabel('Kernel size')\n",
    "    axs[1].set_ylabel('MSE')\n",
    "    axs[1].set_title(f'MSE for image {i + 1}\\n with Median filter for Salt_Pepper noise')\n",
    "    axs[1].legend()\n",
    "\n"
   ]
  },
  {
   "cell_type": "markdown",
   "metadata": {},
   "source": [
    "#### PSNR"
   ]
  },
  {
   "cell_type": "code",
   "execution_count": null,
   "metadata": {},
   "outputs": [],
   "source": [
    "#images_with_gaussian_filter_gaussian = {0:{noise1:[k3, k5, k7], noise2:[k3, k5, k7]}, 1:{noise1:[k3, k5, k7], noise2:[k3, k5, k7]}, ...}\n",
    "\n",
    "\n"
   ]
  },
  {
   "cell_type": "code",
   "execution_count": null,
   "metadata": {},
   "outputs": [],
   "source": [
    "# plot each image on same plot plot for each gaus value\n",
    "for i in range(len(images)):\n",
    "    # print_with_border(f\"Showing MSE for image {i + 1}:\")\n",
    "    fig, axs = plt.subplots(1, 2, figsize=(10, 5))\n",
    "\n",
    "    for j in range(len(gaus_values)):\n",
    "        axs[0].plot(kernel_sizes, PSNR_images_with_median_filter_gaussian[i][j], label=f'Gaussian noise: {gaus_values[j]}')\n",
    "        # axs[1].plot(kernel_sizes, PSNR_images_with_median_filter_salt_pepper[i][j], label=f'Salt_Pepper noise: {salt_pepper_values[j]}')\n",
    "\n",
    "    for k in range(len(salt_pepper_values)):\n",
    "        axs[1].plot(kernel_sizes, PSNR_images_with_median_filter_salt_pepper[i][k], label=f'Salt_Pepper noise: {salt_pepper_values[k]}')\n",
    "\n",
    "        \n",
    "    axs[0].set_xlabel('Kernel size')\n",
    "    axs[0].set_ylabel('PSNR')\n",
    "    axs[0].set_title(f'PSNR for image {i + 1}\\n with Median filter for Gaussian noise')\n",
    "    axs[0].legend()\n",
    "\n",
    "\n",
    "\n",
    "\n",
    "    axs[1].set_xlabel('Kernel size')\n",
    "    axs[1].set_ylabel('PSNR')\n",
    "    axs[1].set_title(f'PSNR for image {i + 1}\\n with Median filter for Salt_Pepper noise')\n",
    "    axs[1].legend()\n",
    "\n"
   ]
  },
  {
   "cell_type": "markdown",
   "metadata": {},
   "source": [
    "#### Edge preservation"
   ]
  },
  {
   "cell_type": "code",
   "execution_count": null,
   "metadata": {},
   "outputs": [],
   "source": [
    "original_edges = [cv2.Canny(img, 100, 200) for img in images]"
   ]
  },
  {
   "cell_type": "markdown",
   "metadata": {},
   "source": [
    "##### Gaussian Noise"
   ]
  },
  {
   "cell_type": "code",
   "execution_count": null,
   "metadata": {},
   "outputs": [],
   "source": [
    "\n",
    "EDGES_images_with_median_filter_gaussian= {i: {n: [] for n in range (len(gaus_values))} for i in range(len(images))}\n",
    "\n",
    "for i in range(len(images)):\n",
    "    for j in range(len(gaus_values)):\n",
    "        for k in range(len(kernel_sizes)) :\n",
    "            # print(i, j, k)\n",
    "            EDGES_images_with_median_filter_gaussian[i][j].append(cv2.Canny(images_with_median_filter_gaussian[i][j][k], 100, 200))"
   ]
  },
  {
   "cell_type": "code",
   "execution_count": null,
   "metadata": {},
   "outputs": [],
   "source": [
    "\n",
    "for i in range(len(images)):\n",
    "    print_with_border(f\"Showing Edges for image {i + 1} with Median filter for Gaussian noise:\")\n",
    "\n",
    "    for j in range(len(gaus_values)):\n",
    "        print(f\"\\n\\tShowing Edges for Gaussian noise {gaus_values[j]}:\")\n",
    "\n",
    "        fig, axs = plt.subplots(1, len(kernel_sizes)+1, figsize=(10, 10))\n",
    "\n",
    "        axs[0].imshow(original_edges[i], cmap='gray')\n",
    "        axs[0].axis('off')\n",
    "        axs[0].set_title('Original Edges')\n",
    "\n",
    "        for k in range(len(kernel_sizes)):\n",
    "            axs[k+1].imshow(EDGES_images_with_median_filter_gaussian[i][j][k], cmap='gray')\n",
    "            axs[k+1].axis('off')\n",
    "            axs[k+1].set_title(f'Edges: Median filter: {kernel_sizes[k]}')\n",
    "\n",
    "        plt.tight_layout()\n",
    "\n",
    "        plt.show()"
   ]
  },
  {
   "cell_type": "markdown",
   "metadata": {},
   "source": [
    "##### Salt_Pepper Noise"
   ]
  },
  {
   "cell_type": "code",
   "execution_count": null,
   "metadata": {},
   "outputs": [],
   "source": [
    "\n",
    "EDGES_images_with_median_filter_salt_pepper= {i: {n: [] for n in range (len(salt_pepper_values))} for i in range(len(images))}\n",
    "\n",
    "for i in range(len(images)):\n",
    "    for j in range(len(salt_pepper_values)):\n",
    "        for k in range(len(kernel_sizes)) :\n",
    "            # print(i, j, k)\n",
    "            EDGES_images_with_median_filter_salt_pepper[i][j].append(cv2.Canny(images_with_median_filter_salt_pepper[i][j][k], 100, 200))\n",
    "\n",
    "            "
   ]
  },
  {
   "cell_type": "code",
   "execution_count": null,
   "metadata": {},
   "outputs": [],
   "source": [
    "\n",
    "for i in range(len(images)):\n",
    "    print_with_border(f\"Showing Edges for image {i + 1} with Median filter for Salt_Pepper noise:\")\n",
    "\n",
    "    for j in range(len(salt_pepper_values)):\n",
    "        print(f\"\\n\\tShowing Edges for Salt_Pepper noise {salt_pepper_values[j]}:\")\n",
    "\n",
    "        fig, axs = plt.subplots(1, len(kernel_sizes)+1, figsize=(10, 10))\n",
    "\n",
    "        axs[0].imshow(original_edges[i], cmap='gray')\n",
    "        axs[0].axis('off')\n",
    "        axs[0].set_title('Original Edges')\n",
    "\n",
    "        for k in range(len(kernel_sizes)):\n",
    "            axs[k+1].imshow(EDGES_images_with_median_filter_salt_pepper[i][j][k], cmap='gray')\n",
    "            axs[k+1].axis('off')\n",
    "            axs[k+1].set_title(f'Edges: Median filter: {kernel_sizes[k]}')\n",
    "\n",
    "        plt.tight_layout()\n",
    "\n",
    "        plt.show()"
   ]
  },
  {
   "cell_type": "markdown",
   "metadata": {},
   "source": [
    "## Advanced filters"
   ]
  },
  {
   "cell_type": "markdown",
   "metadata": {},
   "source": [
    "### Adaptive Mean Filter"
   ]
  },
  {
   "cell_type": "markdown",
   "metadata": {},
   "source": [
    "#### MSE"
   ]
  },
  {
   "cell_type": "code",
   "execution_count": null,
   "metadata": {},
   "outputs": [],
   "source": [
    "\n",
    "#images_with_gaussian_filter_gaussian = {0:{noise1:[k3, k5, k7], noise2:[k3, k5, k7]}, 1:{noise1:[k3, k5, k7], noise2:[k3, k5, k7]}, ...}\n",
    "\n"
   ]
  },
  {
   "cell_type": "code",
   "execution_count": null,
   "metadata": {},
   "outputs": [],
   "source": [
    "\n",
    "# plot each image on same plot plot for each gaus value\n",
    "for i in range(len(images)):\n",
    "    # print_with_border(f\"Showing MSE for image {i + 1}:\")\n",
    "    fig, axs = plt.subplots(1, 2, figsize=(10, 5))\n",
    "\n",
    "    for j in range(len(gaus_values)):\n",
    "        axs[0].plot(kernel_sizes, MSE_images_with_AdaptiveMean_filter_gaussian[i][j], label=f'Gaussian noise: {gaus_values[j]}')\n",
    "        \n",
    "    for k in range(len(salt_pepper_values)):\n",
    "        axs[1].plot(kernel_sizes, MSE_images_with_AdaptiveMean_filter_salt_pepper[i][k], label=f'Salt_Pepper noise: {salt_pepper_values[k]}')\n",
    "\n",
    "    axs[0].set_xlabel('Kernel size')\n",
    "    axs[0].set_ylabel('MSE')\n",
    "    axs[0].set_title(f'MSE for image {i + 1}\\n with Adaptive Mean filter for Gaussian noise')\n",
    "    axs[0].legend()\n",
    "\n",
    "\n",
    "\n",
    "\n",
    "    axs[1].set_xlabel('Kernel size')\n",
    "    axs[1].set_ylabel('MSE')\n",
    "    axs[1].set_title(f'MSE for image {i + 1}\\n with Adaptive Mean filter for Salt_Pepper noise')\n",
    "    axs[1].legend()"
   ]
  },
  {
   "cell_type": "markdown",
   "metadata": {},
   "source": [
    "#### PSNR"
   ]
  },
  {
   "cell_type": "code",
   "execution_count": null,
   "metadata": {},
   "outputs": [],
   "source": [
    "\n",
    "PSNR_images_with_AdaptiveMean_filter_gaussian= calculate_PSNR_for_filters(images, images_with_AdaptiveMean_filter_gaussian, kernel_sizes)\n",
    "PSNR_images_with_AdaptiveMean_filter_salt_pepper= calculate_PSNR_for_filters(images, images_with_AdaptiveMean_filter_salt_pepper, kernel_sizes)"
   ]
  },
  {
   "cell_type": "code",
   "execution_count": null,
   "metadata": {},
   "outputs": [],
   "source": [
    "\n",
    "# plot each image on same plot plot for each gaus value\n",
    "\n",
    "for i in range(len(images)):\n",
    "    # print_with_border(f\"Showing MSE for image {i + 1}:\")\n",
    "    fig, axs = plt.subplots(1, 2, figsize=(10, 5))\n",
    "\n",
    "    for j in range(len(gaus_values)):\n",
    "        axs[0].plot(kernel_sizes, PSNR_images_with_AdaptiveMean_filter_gaussian[i][j], label=f'Gaussian noise: {gaus_values[j]}')\n",
    "        \n",
    "    for k in range(len(salt_pepper_values)):\n",
    "        axs[1].plot(kernel_sizes, PSNR_images_with_AdaptiveMean_filter_salt_pepper[i][k], label=f'Salt_Pepper noise: {salt_pepper_values[k]}')\n",
    "\n",
    "    axs[0].set_xlabel('Kernel size')\n",
    "    axs[0].set_ylabel('PSNR')\n",
    "    axs[0].set_title(f'PSNR for image {i + 1}\\n with Adaptive Mean filter for Gaussian noise')\n",
    "    axs[0].legend()\n",
    "\n",
    "\n",
    "\n",
    "\n",
    "    axs[1].set_xlabel('Kernel size')\n",
    "    axs[1].set_ylabel('PSNR')\n",
    "    axs[1].set_title(f'PSNR for image {i + 1}\\n with Adaptive Mean filter for Salt_Pepper noise')\n",
    "    axs[1].legend()"
   ]
  },
  {
   "cell_type": "markdown",
   "metadata": {},
   "source": [
    "##### Salt_Pepper Noise"
   ]
  },
  {
   "cell_type": "code",
   "execution_count": null,
   "metadata": {},
   "outputs": [],
   "source": [
    "\n",
    "EDGES_images_with_AdaptiveMean_filter_salt_pepper= {i: {n: [] for n in range (len(salt_pepper_values))} for i in range(len(images))}\n",
    "\n",
    "for i in range(len(images)):\n",
    "    for j in range(len(salt_pepper_values)):\n",
    "        for k in range(len(kernel_sizes)) :\n",
    "            # print(i, j, k)\n",
    "            EDGES_images_with_AdaptiveMean_filter_salt_pepper[i][j].append(cv2.Canny(images_with_AdaptiveMean_filter_salt_pepper[i][j][k], 100, 200))"
   ]
  },
  {
   "cell_type": "code",
   "execution_count": null,
   "metadata": {},
   "outputs": [],
   "source": [
    "\n",
    "for i in range(len(images)):\n",
    "    print_with_border(f\"Showing Edges for image {i + 1} with Adaptive Mean filter for Salt_Pepper noise:\")\n",
    "\n",
    "    for j in range(len(salt_pepper_values)):\n",
    "        print(f\"\\n\\tShowing Edges for Salt_Pepper noise {salt_pepper_values[j]}:\")\n",
    "\n",
    "        fig, axs = plt.subplots(1, len(kernel_sizes)+1, figsize=(10, 10))\n",
    "\n",
    "        axs[0].imshow(original_edges[i], cmap='gray')\n",
    "        axs[0].axis('off')\n",
    "        axs[0].set_title('Original Edges')\n",
    "\n",
    "        for k in range(len(kernel_sizes)):\n",
    "            axs[k+1].imshow(EDGES_images_with_AdaptiveMean_filter_salt_pepper[i][j][k], cmap='gray')\n",
    "            axs[k+1].axis('off')\n",
    "            axs[k+1].set_title(f'Edges: Adapt. Mean filter: {kernel_sizes[k]}')\n",
    "\n",
    "        plt.tight_layout()\n",
    "\n",
    "        plt.show()"
   ]
  },
  {
   "cell_type": "markdown",
   "metadata": {},
   "source": [
    "### Bilateral Filter"
   ]
  },
  {
   "cell_type": "markdown",
   "metadata": {},
   "source": [
    "#### MSE"
   ]
  },
  {
   "cell_type": "code",
   "execution_count": null,
   "metadata": {},
   "outputs": [],
   "source": [
    "\n",
    "#images_with_gaussian_filter_gaussian = {0:{noise1:[k3, k5, k7], noise2:[k3, k5, k7]}, 1:{noise1:[k3, k5, k7], noise2:[k3, k5, k7]}, ...}\n",
    "\n",
    "# Bilateral Filter\n"
   ]
  },
  {
   "cell_type": "code",
   "execution_count": null,
   "metadata": {},
   "outputs": [],
   "source": [
    "\n",
    "# plot each image on same plot plot for each gaus value\n",
    "for i in range(len(images)):\n",
    "    # print_with_border(f\"Showing MSE for image {i + 1}:\")\n",
    "    fig, axs = plt.subplots(1, 2, figsize=(10, 5))\n",
    "\n",
    "    for j in range(len(gaus_values)):\n",
    "        axs[0].plot(kernel_sizes, MSE_images_with_Bilateral_filter_gaussian[i][j], label=f'Gaussian noise: {gaus_values[j]}')\n",
    "        \n",
    "    for k in range(len(salt_pepper_values)):\n",
    "        axs[1].plot(kernel_sizes, MSE_images_with_Bilateral_filter_salt_pepper[i][k], label=f'Salt_Pepper noise: {salt_pepper_values[k]}')\n",
    "\n",
    "    axs[0].set_xlabel('Kernel size')\n",
    "    axs[0].set_ylabel('MSE')\n",
    "    axs[0].set_title(f'MSE for image {i + 1}\\n with Bilateral filter for Gaussian noise')\n",
    "    axs[0].legend()\n",
    "\n",
    "\n",
    "\n",
    "\n",
    "    axs[1].set_xlabel('Kernel size')\n",
    "    axs[1].set_ylabel('MSE')\n",
    "    axs[1].set_title(f'MSE for image {i + 1}\\n with Bilateral filter for Salt_Pepper noise')\n",
    "    axs[1].legend()\n",
    "\n",
    "    "
   ]
  },
  {
   "cell_type": "markdown",
   "metadata": {},
   "source": [
    "#### PSNR"
   ]
  },
  {
   "cell_type": "code",
   "execution_count": null,
   "metadata": {},
   "outputs": [],
   "source": []
  },
  {
   "cell_type": "code",
   "execution_count": null,
   "metadata": {},
   "outputs": [],
   "source": [
    "\n",
    "# plot each image on same plot plot for each gaus value\n",
    "\n",
    "for i in range(len(images)):\n",
    "    # print_with_border(f\"Showing MSE for image {i + 1}:\")\n",
    "    fig, axs = plt.subplots(1, 2, figsize=(10, 5))\n",
    "\n",
    "    for j in range(len(gaus_values)):\n",
    "        axs[0].plot(kernel_sizes, PSNR_images_with_Bilateral_filter_gaussian[i][j], label=f'Gaussian noise: {gaus_values[j]}')\n",
    "        \n",
    "    for k in range(len(salt_pepper_values)):\n",
    "        axs[1].plot(kernel_sizes, PSNR_images_with_Bilateral_filter_salt_pepper[i][k], label=f'Salt_Pepper noise: {salt_pepper_values[k]}')\n",
    "\n",
    "    axs[0].set_xlabel('Kernel size')\n",
    "    axs[0].set_ylabel('PSNR')\n",
    "    axs[0].set_title(f'PSNR for image {i + 1}\\n with Bilateral filter for Gaussian noise')\n",
    "    axs[0].legend()\n",
    "\n",
    "\n",
    "\n",
    "\n",
    "    axs[1].set_xlabel('Kernel size')\n",
    "    axs[1].set_ylabel('PSNR')\n",
    "    axs[1].set_title(f'PSNR for image {i + 1}\\n with Bilateral filter for Salt_Pepper noise')\n",
    "    axs[1].legend()"
   ]
  },
  {
   "cell_type": "markdown",
   "metadata": {},
   "source": [
    "##### Gaussian Noise"
   ]
  },
  {
   "cell_type": "code",
   "execution_count": null,
   "metadata": {},
   "outputs": [],
   "source": [
    "\n",
    "\n",
    "EDGES_images_with_Bilateral_filter_gaussian= {i: {n: [] for n in range (len(gaus_values))} for i in range(len(images))}\n",
    "\n",
    "for i in range(len(images)):\n",
    "    for j in range(len(gaus_values)):\n",
    "        for k in range(len(kernel_sizes)) :\n",
    "            # print(i, j, k)\n",
    "            EDGES_images_with_Bilateral_filter_gaussian[i][j].append(cv2.Canny(images_with_Bilateral_filter_gaussian[i][j][k], 100, 200))"
   ]
  },
  {
   "cell_type": "code",
   "execution_count": null,
   "metadata": {},
   "outputs": [],
   "source": [
    "\n",
    "for i in range(len(images)):\n",
    "    print_with_border(f\"Showing Edges for image {i + 1} with Bilateral filter for Gaussian noise:\")\n",
    "\n",
    "    for j in range(len(gaus_values)):\n",
    "        print(f\"\\n\\tShowing Edges for Gaussian noise {gaus_values[j]}:\")\n",
    "\n",
    "        fig, axs = plt.subplots(1, len(kernel_sizes)+1, figsize=(10, 10))\n",
    "\n",
    "        axs[0].imshow(original_edges[i], cmap='gray')\n",
    "        axs[0].axis('off')\n",
    "        axs[0].set_title('Original Edges')\n",
    "\n",
    "        for k in range(len(kernel_sizes)):\n",
    "            axs[k+1].imshow(EDGES_images_with_Bilateral_filter_gaussian[i][j][k], cmap='gray')\n",
    "            axs[k+1].axis('off')\n",
    "            axs[k+1].set_title(f'Edges: Bilateral filter: {kernel_sizes[k]}')\n",
    "\n",
    "        plt.tight_layout()\n",
    "\n",
    "        plt.show()"
   ]
  },
  {
   "cell_type": "markdown",
   "metadata": {},
   "source": [
    "##### Salt_Pepper Noise"
   ]
  },
  {
   "cell_type": "code",
   "execution_count": null,
   "metadata": {},
   "outputs": [],
   "source": [
    "\n",
    "EDGES_images_with_Bilateral_filter_salt_pepper= {i: {n: [] for n in range (len(salt_pepper_values))} for i in range(len(images))}\n",
    "for i in range(len(images)):\n",
    "    for j in range(len(salt_pepper_values)):\n",
    "        for k in range(len(kernel_sizes)) :\n",
    "            # print(i, j, k)\n",
    "            EDGES_images_with_Bilateral_filter_salt_pepper[i][j].append(cv2.Canny(images_with_Bilateral_filter_salt_pepper[i][j][k], 100, 200))"
   ]
  },
  {
   "cell_type": "code",
   "execution_count": null,
   "metadata": {},
   "outputs": [],
   "source": [
    "\n",
    "for i in range(len(images)):\n",
    "    print_with_border(f\"Showing Edges for image {i + 1} with Bilateral filter for Salt_Pepper noise:\")\n",
    "\n",
    "    for j in range(len(salt_pepper_values)):\n",
    "        print(f\"\\n\\tShowing Edges for Salt_Pepper noise {salt_pepper_values[j]}:\")\n",
    "\n",
    "        fig, axs = plt.subplots(1, len(kernel_sizes)+1, figsize=(10, 10))\n",
    "\n",
    "        axs[0].imshow(original_edges[i], cmap='gray')\n",
    "        axs[0].axis('off')\n",
    "        axs[0].set_title('Original Edges')\n",
    "\n",
    "        for k in range(len(kernel_sizes)):\n",
    "            axs[k+1].imshow(EDGES_images_with_Bilateral_filter_salt_pepper[i][j][k], cmap='gray')\n",
    "            axs[k+1].axis('off')\n",
    "            axs[k+1].set_title(f'Edges: Bilateral filter: {kernel_sizes[k]}')\n",
    "\n",
    "        plt.tight_layout()\n",
    "\n",
    "        plt.show()"
   ]
  },
  {
   "cell_type": "markdown",
   "metadata": {},
   "source": [
    "### Adaptive Median filter"
   ]
  },
  {
   "cell_type": "markdown",
   "metadata": {},
   "source": [
    "#### MSE"
   ]
  },
  {
   "cell_type": "code",
   "execution_count": null,
   "metadata": {},
   "outputs": [],
   "source": [
    "\n",
    "#images_with_gaussian_filter_gaussian = {0:{noise1:[k3, k5, k7], noise2:[k3, k5, k7]}, 1:{noise1:[k3, k5, k7], noise2:[k3, k5, k7]}, ...}\n",
    "\n",
    "#AdaptiveMedian Filter\n"
   ]
  },
  {
   "cell_type": "code",
   "execution_count": null,
   "metadata": {},
   "outputs": [],
   "source": [
    "\n",
    "# plot each image on same plot plot for each gaus value\n",
    "\n",
    "for i in range(len(images)):\n",
    "    # print_with_border(f\"Showing MSE for image {i + 1}:\")\n",
    "    fig, axs = plt.subplots(1, 2, figsize=(10, 5))\n",
    "\n",
    "    for j in range(len(gaus_values)):\n",
    "        axs[0].plot(kernel_sizes, MSE_images_with_AdaptiveMedian_filter_gaussian[i][j], label=f'Gaussian noise: {gaus_values[j]}')\n",
    "        \n",
    "    for k in range(len(salt_pepper_values)):\n",
    "        axs[1].plot(kernel_sizes, MSE_images_with_AdaptiveMedian_filter_salt_pepper[i][k], label=f'Salt_Pepper noise: {salt_pepper_values[k]}')\n",
    "\n",
    "    axs[0].set_xlabel('Kernel size')\n",
    "    axs[0].set_ylabel('MSE')\n",
    "    axs[0].set_title(f'MSE for image {i + 1}\\n with Adaptive Median filter for Gaussian noise')\n",
    "    axs[0].legend()\n",
    "\n",
    "\n",
    "\n",
    "\n",
    "    axs[1].set_xlabel('Kernel size')\n",
    "    axs[1].set_ylabel('MSE')\n",
    "    axs[1].set_title(f'MSE for image {i + 1}\\n with Adaptive Median filter for Salt_Pepper noise')\n",
    "    axs[1].legend()"
   ]
  },
  {
   "cell_type": "markdown",
   "metadata": {},
   "source": [
    "#### PSNR"
   ]
  },
  {
   "cell_type": "code",
   "execution_count": null,
   "metadata": {},
   "outputs": [],
   "source": [
    "\n"
   ]
  },
  {
   "cell_type": "code",
   "execution_count": null,
   "metadata": {},
   "outputs": [],
   "source": [
    "\n",
    "for i in range(len(images)):\n",
    "    # print_with_border(f\"Showing MSE for image {i + 1}:\")\n",
    "    fig, axs = plt.subplots(1, 2, figsize=(10, 5))\n",
    "\n",
    "    for j in range(len(gaus_values)):\n",
    "        axs[0].plot(kernel_sizes, PSNR_images_with_AdaptiveMedian_filter_gaussian[i][j], label=f'Gaussian noise: {gaus_values[j]}')\n",
    "        \n",
    "    for k in range(len(salt_pepper_values)):\n",
    "        axs[1].plot(kernel_sizes, PSNR_images_with_AdaptiveMedian_filter_salt_pepper[i][k], label=f'Salt_Pepper noise: {salt_pepper_values[k]}')\n",
    "\n",
    "    axs[0].set_xlabel('Kernel size')\n",
    "    axs[0].set_ylabel('PSNR')\n",
    "    axs[0].set_title(f'PSNR for image {i + 1}\\n with Adaptive Median filter for Gaussian noise')\n",
    "    axs[0].legend()\n",
    "\n",
    "\n",
    "\n",
    "\n",
    "    axs[1].set_xlabel('Kernel size')\n",
    "    axs[1].set_ylabel('PSNR')\n",
    "    axs[1].set_title(f'PSNR for image {i + 1}\\n with Adaptive Median filter for Salt_Pepper noise')\n",
    "    axs[1].legend()"
   ]
  },
  {
   "cell_type": "markdown",
   "metadata": {},
   "source": [
    "##### Gaussian Noise"
   ]
  },
  {
   "cell_type": "code",
   "execution_count": null,
   "metadata": {},
   "outputs": [],
   "source": [
    "\n",
    "EDGES_images_with_AdaptiveMedian_filter_gaussian= {i: {n: [] for n in range (len(gaus_values))} for i in range(len(images))}\n",
    "for i in range(len(images)):\n",
    "    for j in range(len(gaus_values)):\n",
    "        for k in range(len(kernel_sizes)) :\n",
    "            # print(i, j, k)\n",
    "            EDGES_images_with_AdaptiveMedian_filter_gaussian[i][j].append(cv2.Canny(images_with_AdaptiveMedian_filter_gaussian[i][j][k], 100, 200))"
   ]
  },
  {
   "cell_type": "code",
   "execution_count": null,
   "metadata": {},
   "outputs": [],
   "source": [
    "\n",
    "for i in range(len(images)):\n",
    "    print_with_border(f\"Showing Edges for image {i + 1} with Adaptive Median filter for Gaussian noise:\")\n",
    "\n",
    "    for j in range(len(gaus_values)):\n",
    "        print(f\"\\n\\tShowing Edges for Gaussian noise {gaus_values[j]}:\")\n",
    "\n",
    "        fig, axs = plt.subplots(1, len(kernel_sizes)+1, figsize=(10, 10))\n",
    "\n",
    "        axs[0].imshow(original_edges[i], cmap='gray')\n",
    "        axs[0].axis('off')\n",
    "        axs[0].set_title('Original Edges')\n",
    "\n",
    "        for k in range(len(kernel_sizes)):\n",
    "            axs[k+1].imshow(EDGES_images_with_AdaptiveMedian_filter_gaussian[i][j][k], cmap='gray')\n",
    "            axs[k+1].axis('off')\n",
    "            axs[k+1].set_title(f'Edges: Adapt. Median: {kernel_sizes[k]}')\n",
    "\n",
    "        plt.tight_layout()\n",
    "\n",
    "        plt.show()"
   ]
  },
  {
   "cell_type": "markdown",
   "metadata": {},
   "source": [
    "##### Salt_Pepper Noise"
   ]
  },
  {
   "cell_type": "code",
   "execution_count": null,
   "metadata": {},
   "outputs": [],
   "source": [
    "\n",
    "EDGES_images_with_AdaptiveMedian_filter_salt_pepper= {i: {n: [] for n in range (len(salt_pepper_values))} for i in range(len(images))}\n",
    "\n",
    "for i in range(len(images)):\n",
    "    for j in range(len(salt_pepper_values)):\n",
    "        for k in range(len(kernel_sizes)) :\n",
    "            # print(i, j, k)\n",
    "            EDGES_images_with_AdaptiveMedian_filter_salt_pepper[i][j].append(cv2.Canny(images_with_AdaptiveMedian_filter_salt_pepper[i][j][k], 100, 200))\n",
    "                                                      "
   ]
  },
  {
   "cell_type": "code",
   "execution_count": null,
   "metadata": {},
   "outputs": [],
   "source": [
    "\n",
    "for i in range(len(images)):\n",
    "    print_with_border(f\"Showing Edges for image {i + 1} with Adaptive Median filter for Salt_Pepper noise:\")\n",
    "\n",
    "    for j in range(len(salt_pepper_values)):\n",
    "        print(f\"\\n\\tShowing Edges for Salt_Pepper noise {salt_pepper_values[j]}:\")\n",
    "\n",
    "        fig, axs = plt.subplots(1, len(kernel_sizes)+1, figsize=(10, 10))\n",
    "\n",
    "        axs[0].imshow(original_edges[i], cmap='gray')\n",
    "        axs[0].axis('off')\n",
    "        axs[0].set_title('Original Edges')\n",
    "\n",
    "        for k in range(len(kernel_sizes)):\n",
    "            axs[k+1].imshow(EDGES_images_with_AdaptiveMedian_filter_salt_pepper[i][j][k], cmap='gray')\n",
    "            axs[k+1].axis('off')\n",
    "            axs[k+1].set_title(f'Edges: Adapt. Median: {kernel_sizes[k]}')\n",
    "\n",
    "        plt.tight_layout()\n",
    "\n",
    "        plt.show()"
   ]
  },
  {
   "cell_type": "markdown",
   "metadata": {},
   "source": [
    "# Time Results"
   ]
  },
  {
   "cell_type": "code",
   "execution_count": null,
   "metadata": {},
   "outputs": [],
   "source": [
    "\n",
    "\n",
    "box_filter_average_time = calculate_average_time(time_images_with_box_filter_gaussian, time_images_with_box_filter_salt_pepper,images, kernel_sizes, gaus_values, salt_pepper_values)\n",
    "gaussian_filter_average_time = calculate_average_time(time_images_with_gaussian_filter_gaussian, time_images_with_gaussian_filter_salt_pepper,images, kernel_sizes, gaus_values, salt_pepper_values)\n",
    "median_filter_average_time = calculate_average_time(time_images_with_median_filter_gaussian, time_images_with_median_filter_salt_pepper,images, kernel_sizes, gaus_values, salt_pepper_values)\n",
    "AdaptiveMean_filter_average_time = calculate_average_time(time_images_with_AdaptiveMean_filter_gaussian, time_images_with_AdaptiveMean_filter_salt_pepper,images, kernel_sizes, gaus_values, salt_pepper_values)\n",
    "Bilateral_filter_average_time = calculate_average_time(time_images_with_Bilateral_filter_gaussian, time_images_with_Bilateral_filter_salt_pepper,images, kernel_sizes, gaus_values, salt_pepper_values)\n",
    "AdaptiveMedian_filter_average_time = calculate_average_time(time_images_with_AdaptiveMedian_filter_gaussian, time_images_with_AdaptiveMedian_filter_salt_pepper,images, kernel_sizes, gaus_values, salt_pepper_values)\n",
    "\n",
    "print(box_filter_average_time)\n",
    "print(gaussian_filter_average_time)\n",
    "print(median_filter_average_time)\n",
    "print(AdaptiveMean_filter_average_time)\n",
    "print(Bilateral_filter_average_time)\n",
    "print(AdaptiveMedian_filter_average_time)\n"
   ]
  },
  {
   "cell_type": "code",
   "execution_count": null,
   "metadata": {},
   "outputs": [],
   "source": [
    "# make all on one table\n",
    "\n",
    "time_df = pd.DataFrame({ 'Box filter': box_filter_average_time,\n",
    "                         'Gaussian filter': gaussian_filter_average_time,\n",
    "                           'Median filter': median_filter_average_time,\n",
    "                             'Adaptive Mean filter': AdaptiveMean_filter_average_time,\n",
    "                               'Bilateral filter': Bilateral_filter_average_time,\n",
    "                                 'Adaptive Median filter': AdaptiveMedian_filter_average_time})"
   ]
  },
  {
   "cell_type": "code",
   "execution_count": null,
   "metadata": {},
   "outputs": [],
   "source": [
    "time_df"
   ]
  },
  {
   "cell_type": "code",
   "execution_count": null,
   "metadata": {},
   "outputs": [],
   "source": [
    "fig, axs = plt.subplots(1, 1, figsize=(10, 5))\n",
    "width = 0.4\n",
    "for i, col in enumerate(time_df.columns):\n",
    "    axs.bar([k + i*width for k in time_df.index], time_df[col], width=width, label=col)\n",
    "\n",
    "axs.set_yscale('log')\n",
    "axs.set_xticks(kernel_sizes)\n",
    "axs.set_xlabel('Kernel size')\n",
    "axs.set_ylabel('Average time taken (ms)')\n",
    "axs.set_title('Average time taken for each filter')\n",
    "axs.legend()\n",
    "plt.grid('y')\n",
    "\n",
    "plt.tight_layout()\n",
    "plt.show()\n"
   ]
  },
  {
   "cell_type": "markdown",
   "metadata": {},
   "source": [
    "#"
   ]
  },
  {
   "cell_type": "code",
   "execution_count": null,
   "metadata": {},
   "outputs": [],
   "source": [
    "# Dictionaries for Gaussian noise\n",
    "#{k3: [avg_noise1, avg_noise2,.....], k5: [avg_noise1, avg_noise2,.....], k7: [avg_noise1, avg_noise2,.....]}\n",
    "MSE_images_with_box_filter_gaussian = {i: {n: 0 for n in range (len(gaus_values))} for i in range(len(kernel_sizes))}\n",
    "MSE_images_with_gaussian_filter_gaussian = {i: {n: 0 for n in range (len(gaus_values))} for i in range(len(kernel_sizes))}\n",
    "MSE_images_with_median_filter_gaussian = {i: {n: 0 for n in range (len(gaus_values))} for i in range(len(kernel_sizes))}\n",
    "MSE_images_with_AdaptiveMean_filter_gaussian = {i: {n: 0 for n in range (len(gaus_values))} for i in range(len(kernel_sizes))}\n",
    "MSE_images_with_Bilateral_filter_gaussian = {i: {n: 0 for n in range (len(gaus_values))} for i in range(len(kernel_sizes))}\n",
    "MSE_images_with_AdaptiveMedian_filter_gaussian = {i: {n: 0 for n in range (len(gaus_values))} for i in range(len(kernel_sizes))}\n",
    "                                                  \n",
    "\n",
    "for i in range(len(images)):\n",
    "    for j in range(len(gaus_values)):\n",
    "        for k in range(len(kernel_sizes)) :\n",
    "            # print(i, j, k)\n",
    "            MSE_images_with_box_filter_gaussian[k][j]+=(MSE(images[i], images_with_box_filter_gaussian[i][j][k]))\n",
    "            MSE_images_with_gaussian_filter_gaussian[k][j]+=(MSE(images[i], images_with_gaussian_filter_gaussian[i][j][k]))\n",
    "            MSE_images_with_median_filter_gaussian[k][j]+=(MSE(images[i], images_with_median_filter_gaussian[i][j][k]))\n",
    "            MSE_images_with_AdaptiveMean_filter_gaussian[k][j]+=(MSE(images[i], images_with_AdaptiveMean_filter_gaussian[i][j][k]))\n",
    "            MSE_images_with_Bilateral_filter_gaussian[k][j]+=(MSE(images[i], images_with_Bilateral_filter_gaussian[i][j][k]))\n",
    "            MSE_images_with_AdaptiveMedian_filter_gaussian[k][j]+=(MSE(images[i], images_with_AdaptiveMedian_filter_gaussian[i][j][k]))\n",
    "\n",
    "            # MSE_images_with_gaussian_filter_gaussian[k][j].append(MSE(images[i], images_with_gaussian_filter_gaussian[i][j][k]))\n",
    "            # MSE_images_with_median_filter_gaussian[k][j].append(MSE(images[i], images_with_median_filter_gaussian[i][j][k]))\n",
    "            # MSE_images_with_AdaptiveMean_filter_gaussian[k][j].append(MSE(images[i], images_with_AdaptiveMean_filter_gaussian[i][j][k]))\n",
    "            # MSE_images_with_Bilateral_filter_gaussian[k][j].append(MSE(images[i], images_with_Bilateral_filter_gaussian[i][j][k]))\n",
    "            # MSE_images_with_AdaptiveMedian_filter_gaussian[k][j].append(MSE(images[i], images_with_AdaptiveMedian_filter_gaussian[i][j][k]))\n",
    "            \n",
    "MSE_images_with_box_filter_gaussian\n",
    "# box_filter_average_MSE_gaussian = {k: 0 for k in kernel_sizes}\n",
    "# gaussian_filter_average_MSE_gaussian = {k: 0 for k in kernel_sizes}\n",
    "# median_filter_average_MSE_gaussian = {k: 0 for k in kernel_sizes}\n",
    "# AdaptiveMean_filter_average_MSE_gaussian = {k: 0 for k in kernel_sizes}\n",
    "# Bilateral_filter_average_MSE_gaussian = {k: 0 for k in kernel_sizes}\n",
    "# AdaptiveMedian_filter_average_MSE_gaussian = {k: 0 for k in kernel_sizes}\n",
    "\n",
    "# # Dictionaries for Salt-Pepper noise\n",
    "# box_filter_average_MSE_salt_pepper = {k: 0 for k in kernel_sizes}\n",
    "# gaussian_filter_average_MSE_salt_pepper = {k: 0 for k in kernel_sizes}\n",
    "# median_filter_average_MSE_salt_pepper = {k: 0 for k in kernel_sizes}\n",
    "# AdaptiveMean_filter_average_MSE_salt_pepper = {k: 0 for k in kernel_sizes}\n",
    "# Bilateral_filter_average_MSE_salt_pepper = {k: 0 for k in kernel_sizes}\n",
    "# AdaptiveMedian_filter_average_MSE_salt_pepper = {k: 0 for k in kernel_sizes}\n",
    "\n",
    "# # Calculate MSE for Gaussian noise\n",
    "# for i in range(len(images)):\n",
    "#     for k in range(len(kernel_sizes)):\n",
    "#         for j in range(len(gaus_values)):\n",
    "#             box_filter_average_MSE_gaussian[kernel_sizes[k]] += MSE_images_with_box_filter_gaussian[i][j][k]\n",
    "#             gaussian_filter_average_MSE_gaussian[kernel_sizes[k]] += MSE_images_with_gaussian_filter_gaussian[i][j][k]\n",
    "#             median_filter_average_MSE_gaussian[kernel_sizes[k]] += MSE_images_with_median_filter_gaussian[i][j][k]\n",
    "#             AdaptiveMean_filter_average_MSE_gaussian[kernel_sizes[k]] += MSE_images_with_AdaptiveMean_filter_gaussian[i][j][k]\n",
    "#             Bilateral_filter_average_MSE_gaussian[kernel_sizes[k]] += MSE_images_with_Bilateral_filter_gaussian[i][j][k]\n",
    "#             AdaptiveMedian_filter_average_MSE_gaussian[kernel_sizes[k]] += MSE_images_with_AdaptiveMedian_filter_gaussian[i][j][k]\n",
    "\n",
    "# for k in kernel_sizes:\n",
    "#     box_filter_average_MSE_gaussian[k] /= (len(images) * len(gaus_values))\n",
    "#     gaussian_filter_average_MSE_gaussian[k] /= (len(images) * len(gaus_values))\n",
    "#     median_filter_average_MSE_gaussian[k] /= (len(images) * len(gaus_values))\n",
    "#     AdaptiveMean_filter_average_MSE_gaussian[k] /= (len(images) * len(gaus_values))\n",
    "#     Bilateral_filter_average_MSE_gaussian[k] /= (len(images) * len(gaus_values))\n",
    "#     AdaptiveMedian_filter_average_MSE_gaussian[k] /= (len(images) * len(gaus_values))\n",
    "\n",
    "# # Calculate MSE for Salt-Pepper noise\n",
    "# for i in range(len(images)):\n",
    "#     for k in range(len(kernel_sizes)):\n",
    "#         for j in range(len(salt_pepper_values)):\n",
    "#             box_filter_average_MSE_salt_pepper[kernel_sizes[k]] += MSE_images_with_box_filter_salt_pepper[i][j][k]\n",
    "#             gaussian_filter_average_MSE_salt_pepper[kernel_sizes[k]] += MSE_images_with_gaussian_filter_salt_pepper[i][j][k]\n",
    "#             median_filter_average_MSE_salt_pepper[kernel_sizes[k]] += MSE_images_with_median_filter_salt_pepper[i][j][k]\n",
    "#             AdaptiveMean_filter_average_MSE_salt_pepper[kernel_sizes[k]] += MSE_images_with_AdaptiveMean_filter_salt_pepper[i][j][k]\n",
    "#             Bilateral_filter_average_MSE_salt_pepper[kernel_sizes[k]] += MSE_images_with_Bilateral_filter_salt_pepper[i][j][k]\n",
    "#             AdaptiveMedian_filter_average_MSE_salt_pepper[kernel_sizes[k]] += MSE_images_with_AdaptiveMedian_filter_salt_pepper[i][j][k]\n",
    "\n",
    "# for k in kernel_sizes:\n",
    "#     box_filter_average_MSE_salt_pepper[k] /= (len(images) * len(salt_pepper_values))\n",
    "#     gaussian_filter_average_MSE_salt_pepper[k] /= (len(images) * len(salt_pepper_values))\n",
    "#     median_filter_average_MSE_salt_pepper[k] /= (len(images) * len(salt_pepper_values))\n",
    "#     AdaptiveMean_filter_average_MSE_salt_pepper[k] /= (len(images) * len(salt_pepper_values))\n",
    "#     Bilateral_filter_average_MSE_salt_pepper[k] /= (len(images) * len(salt_pepper_values))\n",
    "#     AdaptiveMedian_filter_average_MSE_salt_pepper[k] /= (len(images) * len(salt_pepper_values))\n"
   ]
  },
  {
   "cell_type": "code",
   "execution_count": null,
   "metadata": {},
   "outputs": [],
   "source": [
    "\n",
    "# # make all on one table\n",
    "\n",
    "# # MSE_gaussian_df = pd.DataFrame({ 'Box filter': box_filter_average_MSE_gaussian,\n",
    "# #                           'Gaussian filter': gaussian_filter_average_MSE_gaussian,\n",
    "# #                             'Median filter': median_filter_average_MSE_gaussian,\n",
    "# #                               'Adaptive Mean filter': AdaptiveMean_filter_average_MSE_gaussian,\n",
    "# #                                 'Bilateral filter': Bilateral_filter_average_MSE_gaussian,\n",
    "# #                                   'Adaptive Median filter': AdaptiveMedian_filter_average_MSE_gaussian})\n",
    "\n",
    "# # MSE_salt_pepper_df = pd.DataFrame({ 'Box filter': box_filter_average_MSE_salt_pepper,\n",
    "# #                           'Gaussian filter': gaussian_filter_average_MSE_salt_pepper,\n",
    "# #                             'Median filter': median_filter_average_MSE_salt_pepper,\n",
    "# #                               'Adaptive Mean filter': AdaptiveMean_filter_average_MSE_salt_pepper,\n",
    "# #                                 'Bilateral filter': Bilateral_filter_average_MSE_salt_pepper,\n",
    "\n",
    "# #                                   'Adaptive Median filter': AdaptiveMedian_filter_average_MSE_salt_pepper})\n",
    "\n",
    "\n",
    "# # MSE_images_with_box_filter_gaussian tKE THE MEAN \n",
    "\n",
    "\n",
    "# MSE_images_with_box_filter_gaussian_df = pd.DataFrame(MSE_images_with_box_filter_gaussian)\n",
    "# MSE_images_with_gaussian_filter_gaussian_df = pd.DataFrame(MSE_images_with_gaussian_filter_gaussian)\n",
    "# MSE_images_with_median_filter_gaussian_df = pd.DataFrame(MSE_images_with_median_filter_gaussian)\n",
    "# MSE_images_with_AdaptiveMean_filter_gaussian_df = pd.DataFrame(MSE_images_with_AdaptiveMean_filter_gaussian)\n",
    "# MSE_images_with_Bilateral_filter_gaussian_df = pd.DataFrame(MSE_images_with_Bilateral_filter_gaussian)\n",
    "# MSE_images_with_AdaptiveMedian_filter_gaussian_df = pd.DataFrame(MSE_images_with_AdaptiveMedian_filter_gaussian)\n",
    "# #transpose the dataframes\n",
    "\n",
    "# fig, axs = plt.subplots(nrows=3,ncols= 2, figsize=(10, 5))\n",
    "# axs[0, 0].plot(kernel_sizes, MSE_images_with_box_filter_gaussian_df.T)\n",
    "# axs[0, 0].set_title('Box filter')\n",
    "# axs[0, 0].set_xlabel('Kernel size')\n",
    "# axs[0, 0].set_ylabel('MSE')\n",
    "# axs[0, 0].legend()\n",
    "\n",
    "# axs[0, 1].plot(kernel_sizes, MSE_images_with_gaussian_filter_gaussian_df.T)\n",
    "# axs[0, 1].set_title('Gaussian filter')\n",
    "# axs[0, 1].set_xlabel('Kernel size')\n",
    "# axs[0, 1].set_ylabel('MSE')\n",
    "\n",
    "# axs[1, 0].plot(kernel_sizes, MSE_images_with_median_filter_gaussian_df.T)\n",
    "# axs[1, 0].set_title('Median filter')\n",
    "# axs[1, 0].set_xlabel('Kernel size')\n",
    "# axs[1, 0].set_ylabel('MSE')\n",
    "\n",
    "# axs[1, 1].plot(kernel_sizes, MSE_images_with_AdaptiveMean_filter_gaussian_df.T)\n",
    "# axs[1, 1].set_title('Adaptive Mean filter')\n",
    "# axs[1, 1].set_xlabel('Kernel size')\n",
    "# axs[1, 1].set_ylabel('MSE')\n",
    "\n",
    "# axs[2, 0].plot(kernel_sizes, MSE_images_with_Bilateral_filter_gaussian_df.T)\n",
    "# axs[2, 0].set_title('Bilateral filter')\n",
    "# axs[2, 0].set_xlabel('Kernel size')\n",
    "# axs[2, 0].set_ylabel('MSE')\n",
    "\n",
    "# axs[2, 1].plot(kernel_sizes, MSE_images_with_AdaptiveMedian_filter_gaussian_df.T)\n",
    "# axs[2, 1].set_title('Adaptive Median filter')\n",
    "# axs[2, 1].set_xlabel('Kernel size')\n",
    "# axs[2, 1].set_ylabel('MSE')\n",
    "\n",
    "# plt.tight_layout()\n",
    "# plt.show()"
   ]
  },
  {
   "cell_type": "code",
   "execution_count": null,
   "metadata": {},
   "outputs": [],
   "source": [
    "\n",
    "fig, axs = plt.subplots(1, 1, figsize=(10, 5))\n",
    "width = 0.4\n",
    "for i, col in enumerate(MSE_gaussian_df.columns):\n",
    "    axs.bar([k + i*width for k in MSE_gaussian_df.index], MSE_gaussian_df[col], width=width, label=col)\n",
    "\n",
    "# axs.set_yscale('log')\n",
    "axs.set_xticks(kernel_sizes)\n",
    "axs.set_xlabel('Kernel size')\n",
    "\n",
    "axs.set_ylabel('Average MSE')\n",
    "axs.set_title('Average MSE for each filter with Gaussian noise')\n",
    "axs.legend()\n",
    "axs.set_yticks(np.arange(0, 100, 10))\n",
    "axs.grid('y')\n",
    "\n",
    "\n",
    "plt.tight_layout()\n",
    "plt.show()\n",
    "\n",
    "fig, axs = plt.subplots(1, 1, figsize=(10, 5))\n",
    "width = 0.4\n",
    "for i, col in enumerate(MSE_salt_pepper_df.columns):\n",
    "    axs.bar([k + i*width for k in MSE_salt_pepper_df.index], MSE_salt_pepper_df[col], width=width, label=col)\n",
    "\n",
    "axs.set_xticks(kernel_sizes)\n",
    "axs.set_xlabel('Kernel size')\n",
    "axs.set_yticks(np.arange(0, 100, 10))\n",
    "axs.set_ylabel('Average MSE')\n",
    "axs.set_title('Average MSE for each filter with Salt-Pepper noise')\n",
    "axs.legend()\n",
    "axs.grid('y')  \n"
   ]
  },
  {
   "cell_type": "markdown",
   "metadata": {},
   "source": [
    "# Edge Preservation"
   ]
  },
  {
   "cell_type": "markdown",
   "metadata": {},
   "source": [
    "## Simple Filters"
   ]
  },
  {
   "cell_type": "markdown",
   "metadata": {},
   "source": [
    "### Box Filter"
   ]
  },
  {
   "cell_type": "markdown",
   "metadata": {},
   "source": [
    "#### Gaussian Noise"
   ]
  },
  {
   "cell_type": "code",
   "execution_count": null,
   "metadata": {},
   "outputs": [],
   "source": [
    "EDGES_images_with_box_filter_gaussian= {i: {n: [] for n in range (len(gaus_values))} for i in range(len(images))}\n",
    "\n",
    "for i in range(len(images)):\n",
    "    for j in range(len(gaus_values)):\n",
    "        for k in range(len(kernel_sizes)) :\n",
    "            # print(i, j, k)\n",
    "            EDGES_images_with_box_filter_gaussian[i][j].append(cv2.Canny(images_with_box_filter_gaussian[i][j][k], 100, 200))\n",
    "\n",
    "\n",
    "\n",
    "plot_with_edges(images=images,\n",
    "                images_with_edges=EDGES_images_with_box_filter_gaussian,\n",
    "                filter_type='Box',\n",
    "                noise_type='gaussian',\n",
    "                noise_values=gaus_values,\n",
    "                kernel_sizes=kernel_sizes,\n",
    "                kernel_sizes_to_show=kernel_sizes_to_show)"
   ]
  },
  {
   "cell_type": "markdown",
   "metadata": {},
   "source": [
    "#### Salt_Pepper Noise"
   ]
  },
  {
   "cell_type": "code",
   "execution_count": null,
   "metadata": {},
   "outputs": [],
   "source": [
    "\n",
    "EDGES_images_with_box_filter_salt_pepper= {i: {n: [] for n in range (len(salt_pepper_values))} for i in range(len(images))}\n",
    "\n",
    "for i in range(len(images)):\n",
    "    for j in range(len(salt_pepper_values)):\n",
    "        for k in range(len(kernel_sizes)) :\n",
    "            EDGES_images_with_box_filter_salt_pepper[i][j].append(cv2.Canny(images_with_box_filter_salt_pepper[i][j][k], 100, 200))\n",
    "\n",
    "plot_with_edges(images=images,\n",
    "                images_with_edges=EDGES_images_with_box_filter_salt_pepper,\n",
    "                filter_type='Box',\n",
    "                noise_type='salt_pepper',\n",
    "                noise_values=salt_pepper_values,\n",
    "                kernel_sizes=kernel_sizes,\n",
    "                kernel_sizes_to_show=kernel_sizes_to_show)\n"
   ]
  },
  {
   "cell_type": "markdown",
   "metadata": {},
   "source": [
    "### Gaussian Filter"
   ]
  },
  {
   "cell_type": "markdown",
   "metadata": {},
   "source": [
    "#### Gaussian Noise"
   ]
  },
  {
   "cell_type": "code",
   "execution_count": null,
   "metadata": {},
   "outputs": [],
   "source": [
    "EDGES_images_with_gaussian_filter_gaussian= {i: {n: [] for n in range (len(gaus_values))} for i in range(len(images))}\n",
    "for i in range(len(images)):\n",
    "    for j in range(len(gaus_values)):\n",
    "        for k in range(len(kernel_sizes)) :\n",
    "            EDGES_images_with_gaussian_filter_gaussian[i][j].append(cv2.Canny(images_with_gaussian_filter_gaussian[i][j][k], 100, 200))\n",
    "\n",
    "plot_with_edges(images=images,\n",
    "                images_with_edges=EDGES_images_with_gaussian_filter_gaussian,\n",
    "                filter_type='Gaussian',\n",
    "                noise_type='gaussian',\n",
    "                noise_values=gaus_values,\n",
    "                kernel_sizes=kernel_sizes,\n",
    "                kernel_sizes_to_show=kernel_sizes_to_show)"
   ]
  },
  {
   "cell_type": "markdown",
   "metadata": {},
   "source": [
    "#### Salt_Pepper Noise"
   ]
  },
  {
   "cell_type": "code",
   "execution_count": null,
   "metadata": {},
   "outputs": [],
   "source": [
    "\n",
    "EDGES_images_with_gaussian_filter_salt_pepper= {i: {n: [] for n in range (len(salt_pepper_values))} for i in range(len(images))}\n",
    "for i in range(len(images)):\n",
    "    for j in range(len(salt_pepper_values)):\n",
    "        for k in range(len(kernel_sizes)) :\n",
    "            EDGES_images_with_gaussian_filter_salt_pepper[i][j].append(cv2.Canny(images_with_gaussian_filter_salt_pepper[i][j][k], 100, 200))\n",
    "\n",
    "plot_with_edges(images=images,\n",
    "                images_with_edges=EDGES_images_with_gaussian_filter_salt_pepper,\n",
    "                filter_type='Gaussian',\n",
    "                noise_type='salt_pepper',\n",
    "                noise_values=salt_pepper_values,\n",
    "                kernel_sizes=kernel_sizes,\n",
    "                kernel_sizes_to_show=kernel_sizes_to_show)"
   ]
  },
  {
   "cell_type": "markdown",
   "metadata": {},
   "source": [
    "### Median Filter"
   ]
  },
  {
   "cell_type": "markdown",
   "metadata": {},
   "source": [
    "#### Gaussian Noise"
   ]
  },
  {
   "cell_type": "code",
   "execution_count": null,
   "metadata": {},
   "outputs": [],
   "source": [
    "\n",
    "EDGES_images_with_median_filter_gaussian= {i: {n: [] for n in range (len(gaus_values))} for i in range(len(images))}\n",
    "for i in range(len(images)):\n",
    "    for j in range(len(gaus_values)):\n",
    "        for k in range(len(kernel_sizes)) :\n",
    "            EDGES_images_with_median_filter_gaussian[i][j].append(cv2.Canny(images_with_median_filter_gaussian[i][j][k], 100, 200))\n",
    "\n",
    "plot_with_edges(images=images,\n",
    "                images_with_edges=EDGES_images_with_median_filter_gaussian,\n",
    "                filter_type='Median',\n",
    "                noise_type='gaussian',\n",
    "                noise_values=gaus_values,\n",
    "                kernel_sizes=kernel_sizes,\n",
    "                kernel_sizes_to_show=kernel_sizes_to_show)"
   ]
  },
  {
   "cell_type": "markdown",
   "metadata": {},
   "source": [
    "#### Salt_Pepper Noise"
   ]
  },
  {
   "cell_type": "code",
   "execution_count": null,
   "metadata": {},
   "outputs": [],
   "source": [
    "EDGES_images_with_median_filter_salt_pepper= {i: {n: [] for n in range (len(salt_pepper_values))} for i in range(len(images))}\n",
    "for i in range(len(images)):\n",
    "    for j in range(len(salt_pepper_values)):\n",
    "        for k in range(len(kernel_sizes)) :\n",
    "            EDGES_images_with_median_filter_salt_pepper[i][j].append(cv2.Canny(images_with_median_filter_salt_pepper[i][j][k], 100, 200))\n",
    "\n",
    "plot_with_edges(images=images,\n",
    "                images_with_edges=EDGES_images_with_median_filter_salt_pepper,\n",
    "                filter_type='Median',\n",
    "                noise_type='salt_pepper',\n",
    "                noise_values=salt_pepper_values,\n",
    "                kernel_sizes=kernel_sizes,\n",
    "                kernel_sizes_to_show=kernel_sizes_to_show)"
   ]
  },
  {
   "cell_type": "markdown",
   "metadata": {},
   "source": [
    "## Advanced filters"
   ]
  },
  {
   "cell_type": "markdown",
   "metadata": {},
   "source": [
    "### Adaptive Mean Filter"
   ]
  },
  {
   "cell_type": "markdown",
   "metadata": {},
   "source": [
    "#### Gaussian Noise"
   ]
  },
  {
   "cell_type": "code",
   "execution_count": null,
   "metadata": {},
   "outputs": [],
   "source": [
    "EDGES_images_with_AdaptiveMean_filter_gaussian= {i: {n: [] for n in range (len(gaus_values))} for i in range(len(images))}\n",
    "for i in range(len(images)):\n",
    "    for j in range(len(gaus_values)):\n",
    "        for k in range(len(kernel_sizes)) :\n",
    "            EDGES_images_with_AdaptiveMean_filter_gaussian[i][j].append(cv2.Canny(images_with_AdaptiveMean_filter_gaussian[i][j][k], 100, 200))\n",
    "\n",
    "plot_with_edges(images=images,\n",
    "                images_with_edges=EDGES_images_with_AdaptiveMean_filter_gaussian,\n",
    "                filter_type='Adaptive Mean',\n",
    "                noise_type='gaussian',\n",
    "                noise_values=gaus_values,\n",
    "                kernel_sizes=kernel_sizes,\n",
    "                kernel_sizes_to_show=kernel_sizes_to_show)"
   ]
  },
  {
   "cell_type": "markdown",
   "metadata": {},
   "source": [
    "#### Salt_Pepper Noise"
   ]
  },
  {
   "cell_type": "code",
   "execution_count": null,
   "metadata": {},
   "outputs": [],
   "source": [
    "EDGES_images_with_AdaptiveMean_filter_salt_pepper= {i: {n: [] for n in range (len(salt_pepper_values))} for i in range(len(images))}\n",
    "\n",
    "for i in range(len(images)):\n",
    "    for j in range(len(salt_pepper_values)):\n",
    "        for k in range(len(kernel_sizes)) :\n",
    "            EDGES_images_with_AdaptiveMean_filter_salt_pepper[i][j].append(cv2.Canny(images_with_AdaptiveMean_filter_salt_pepper[i][j][k], 100, 200))\n",
    "\n",
    "plot_with_edges(images=images,\n",
    "                images_with_edges=EDGES_images_with_AdaptiveMean_filter_salt_pepper,\n",
    "                filter_type='Adaptive Mean',\n",
    "                noise_type='salt_pepper',\n",
    "                noise_values=salt_pepper_values,\n",
    "                kernel_sizes=kernel_sizes,\n",
    "                kernel_sizes_to_show=kernel_sizes_to_show)"
   ]
  },
  {
   "cell_type": "markdown",
   "metadata": {},
   "source": [
    "### Bilateral Filter"
   ]
  },
  {
   "cell_type": "markdown",
   "metadata": {},
   "source": [
    "#### Gaussian Noise"
   ]
  },
  {
   "cell_type": "code",
   "execution_count": null,
   "metadata": {},
   "outputs": [],
   "source": [
    "EDGES_images_with_Bilateral_filter_gaussian= {i: {n: [] for n in range (len(gaus_values))} for i in range(len(images))}\n",
    "for i in range(len(images)):\n",
    "    for j in range(len(gaus_values)):\n",
    "        for k in range(len(kernel_sizes)) :\n",
    "            EDGES_images_with_Bilateral_filter_gaussian[i][j].append(cv2.Canny(images_with_Bilateral_filter_gaussian[i][j][k], 100, 200))\n",
    "\n",
    "plot_with_edges(images=images,\n",
    "                images_with_edges=EDGES_images_with_Bilateral_filter_gaussian,\n",
    "                filter_type='Bilateral',\n",
    "                noise_type='gaussian',\n",
    "                noise_values=gaus_values,\n",
    "                kernel_sizes=kernel_sizes,\n",
    "                kernel_sizes_to_show=kernel_sizes_to_show)"
   ]
  },
  {
   "cell_type": "markdown",
   "metadata": {},
   "source": [
    "#### Salt_Pepper Noise"
   ]
  },
  {
   "cell_type": "code",
   "execution_count": null,
   "metadata": {},
   "outputs": [],
   "source": [
    "EDGES_images_with_Bilateral_filter_salt_pepper= {i: {n: [] for n in range (len(salt_pepper_values))} for i in range(len(images))}\n",
    "for i in range(len(images)):\n",
    "    for j in range(len(salt_pepper_values)):\n",
    "        for k in range(len(kernel_sizes)) :\n",
    "            EDGES_images_with_Bilateral_filter_salt_pepper[i][j].append(cv2.Canny(images_with_Bilateral_filter_salt_pepper[i][j][k], 100, 200))\n",
    "\n",
    "plot_with_edges(images=images,\n",
    "                images_with_edges=EDGES_images_with_Bilateral_filter_salt_pepper,\n",
    "                filter_type='Bilateral',\n",
    "                noise_type='salt_pepper',\n",
    "                noise_values=salt_pepper_values,\n",
    "                kernel_sizes=kernel_sizes,\n",
    "                kernel_sizes_to_show=kernel_sizes_to_show)"
   ]
  },
  {
   "cell_type": "markdown",
   "metadata": {},
   "source": [
    "### Adaptive Mean Filter"
   ]
  },
  {
   "cell_type": "markdown",
   "metadata": {},
   "source": [
    "#### Gaussian Noise"
   ]
  },
  {
   "cell_type": "code",
   "execution_count": null,
   "metadata": {},
   "outputs": [],
   "source": [
    "EDGES_images_with_AdaptiveMedian_filter_gaussian= {i: {n: [] for n in range (len(gaus_values))} for i in range(len(images))}\n",
    "for i in range(len(images)):\n",
    "    for j in range(len(gaus_values)):\n",
    "        for k in range(len(kernel_sizes)) :\n",
    "            EDGES_images_with_AdaptiveMedian_filter_gaussian[i][j].append(cv2.Canny(images_with_AdaptiveMedian_filter_gaussian[i][j][k], 100, 200))\n",
    "\n",
    "plot_with_edges(images=images,\n",
    "                images_with_edges=EDGES_images_with_AdaptiveMedian_filter_gaussian,\n",
    "                filter_type='Adaptive Median',\n",
    "                noise_type='gaussian',\n",
    "                noise_values=gaus_values,\n",
    "                kernel_sizes=kernel_sizes,\n",
    "                kernel_sizes_to_show=kernel_sizes_to_show)"
   ]
  },
  {
   "cell_type": "markdown",
   "metadata": {},
   "source": [
    "#### Salt_Pepper Noise"
   ]
  },
  {
   "cell_type": "code",
   "execution_count": null,
   "metadata": {},
   "outputs": [],
   "source": [
    "EDGES_images_with_AdaptiveMedian_filter_salt_pepper= {i: {n: [] for n in range (len(salt_pepper_values))} for i in range(len(images))}\n",
    "\n",
    "for i in range(len(images)):\n",
    "    for j in range(len(salt_pepper_values)):\n",
    "        for k in range(len(kernel_sizes)) :\n",
    "            EDGES_images_with_AdaptiveMedian_filter_salt_pepper[i][j].append(cv2.Canny(images_with_AdaptiveMedian_filter_salt_pepper[i][j][k], 100, 200))\n",
    "\n",
    "plot_with_edges(images=images,\n",
    "                images_with_edges=EDGES_images_with_AdaptiveMedian_filter_salt_pepper,\n",
    "                filter_type='Adaptive Median',\n",
    "                noise_type='salt_pepper',\n",
    "                noise_values=salt_pepper_values,\n",
    "                kernel_sizes=kernel_sizes,\n",
    "                kernel_sizes_to_show=kernel_sizes_to_show)"
   ]
  }
 ],
 "metadata": {
  "colab": {
   "provenance": []
  },
  "kernelspec": {
   "display_name": "Python 3",
   "language": "python",
   "name": "python3"
  },
  "language_info": {
   "codemirror_mode": {
    "name": "ipython",
    "version": 3
   },
   "file_extension": ".py",
   "mimetype": "text/x-python",
   "name": "python",
   "nbconvert_exporter": "python",
   "pygments_lexer": "ipython3",
   "version": "3.12.2"
  }
 },
 "nbformat": 4,
 "nbformat_minor": 0
}
